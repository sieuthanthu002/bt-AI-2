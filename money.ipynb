{
  "nbformat": 4,
  "nbformat_minor": 0,
  "metadata": {
    "colab": {
      "provenance": [],
      "mount_file_id": "1XlbMaoXJ7cpZYctPJksAbmdsEqwDSRJQ",
      "authorship_tag": "ABX9TyMkXEydd8MFp22pnV7vWYYH",
      "include_colab_link": true
    },
    "kernelspec": {
      "name": "python3",
      "display_name": "Python 3"
    },
    "language_info": {
      "name": "python"
    },
    "accelerator": "GPU",
    "gpuClass": "standard"
  },
  "cells": [
    {
      "cell_type": "markdown",
      "metadata": {
        "id": "view-in-github",
        "colab_type": "text"
      },
      "source": [
        "<a href=\"https://colab.research.google.com/github/sieuthanthu002/bt-AI-2/blob/main/money.ipynb\" target=\"_parent\"><img src=\"https://colab.research.google.com/assets/colab-badge.svg\" alt=\"Open In Colab\"/></a>"
      ]
    },
    {
      "cell_type": "code",
      "execution_count": 1,
      "metadata": {
        "colab": {
          "base_uri": "https://localhost:8080/"
        },
        "id": "ftkBR_0mTI1W",
        "outputId": "ba1c1885-d2ce-4f9a-a4b7-2c1bb7827f04"
      },
      "outputs": [
        {
          "output_type": "stream",
          "name": "stdout",
          "text": [
            "Drive already mounted at /content/drive; to attempt to forcibly remount, call drive.mount(\"/content/drive\", force_remount=True).\n"
          ]
        }
      ],
      "source": [
        "from google.colab import drive\n",
        "drive.mount('/content/drive')"
      ]
    },
    {
      "cell_type": "code",
      "source": [
        "from os import listdir\n",
        "from numpy import asarray,save\n",
        "from keras.utils import load_img,img_to_array\n",
        "\n",
        "folder = '/content/drive/MyDrive/Money/'\n",
        "photos,labels = list(),list()\n",
        "for file in listdir(folder):\n",
        "  if file.startswith('5k'):\n",
        "    output = 0\n",
        "    photo = load_img(folder+file,target_size=(40,30))\n",
        "    photo = img_to_array(photo)\n",
        "    photos.append(photo)\n",
        "    labels.append(output)\n",
        "for file in listdir(folder):\n",
        "  if file.startswith('10k'):\n",
        "    output = 1\n",
        "    photo = load_img(folder+file,target_size=(40,30))\n",
        "    photo = img_to_array(photo)\n",
        "    photos.append(photo)\n",
        "    labels.append(output)\n",
        "for file in listdir(folder):\n",
        "  if file.startswith('20k'):\n",
        "    output = 2\n",
        "    photo = load_img(folder+file,target_size=(40,30))\n",
        "    photo = img_to_array(photo)\n",
        "    photos.append(photo)\n",
        "    labels.append(output)\n",
        "for file in listdir(folder):\n",
        "  if file.startswith('50k'):\n",
        "    output = 3\n",
        "    photo = load_img(folder+file,target_size=(40,30))\n",
        "    photo = img_to_array(photo)\n",
        "    photos.append(photo)\n",
        "    labels.append(output)\n",
        "for file in listdir(folder):\n",
        "  if file.startswith('100k'):\n",
        "    output = 4\n",
        "    photo = load_img(folder+file,target_size=(40,30))\n",
        "    photo = img_to_array(photo)\n",
        "    photos.append(photo)\n",
        "    labels.append(output)\n",
        "for file in listdir(folder):\n",
        "  if file.startswith('200k'):\n",
        "    output = 5\n",
        "    photo = load_img(folder+file,target_size=(40,30))\n",
        "    photo = img_to_array(photo)\n",
        "    photos.append(photo)\n",
        "    labels.append(output)\n",
        "for file in listdir(folder):\n",
        "  if file.startswith('500k'):\n",
        "    output = 6\n",
        "    photo = load_img(folder+file,target_size=(40,30))\n",
        "    photo = img_to_array(photo)\n",
        "    photos.append(photo)\n",
        "    labels.append(output)\n",
        "\n",
        "photos=asarray(photos)\n",
        "labels=asarray(labels)\n",
        "print(photos.shape,labels.shape)\n",
        "save('face.npy',photos)\n",
        "save('face.npy',labels)\n"
      ],
      "metadata": {
        "colab": {
          "base_uri": "https://localhost:8080/"
        },
        "id": "wnA-qXZoTNVm",
        "outputId": "4dd3de1c-958f-4d61-cc36-da488e759fcc"
      },
      "execution_count": 2,
      "outputs": [
        {
          "output_type": "stream",
          "name": "stdout",
          "text": [
            "(200, 40, 30, 3) (200,)\n"
          ]
        }
      ]
    },
    {
      "cell_type": "code",
      "source": [
        "from keras.models import Sequential\n",
        "from keras.layers import Dense,Dropout,Flatten,Conv2D,MaxPooling2D,Normalization,LeakyReLU\n",
        "from keras.optimizers import Adam\n",
        "\n",
        "model = Sequential()\n",
        "model.add(Conv2D(32, (3, 3), activation='relu', padding='same', input_shape=(40,30,3)))\n",
        "model.add(MaxPooling2D((2, 2)))\n",
        "model.add(Conv2D(64, (3, 3), activation='relu', padding='same'))\n",
        "model.add(MaxPooling2D((2, 2)))\n",
        "model.add(Conv2D(128, (3, 3), activation='relu', padding='same'))\n",
        "model.add(MaxPooling2D((2, 2)))\n",
        "\n",
        "model.add(Flatten())\n",
        "model.add(Dense(128, activation='relu'))\n",
        "model.add(Dense(10, activation='softmax'))\n",
        "model.compile(optimizer='Adam', loss='sparse_categorical_crossentropy', metrics=['accuracy'])\n",
        "history = model.fit(photos, labels, epochs=50, verbose=1)"
      ],
      "metadata": {
        "colab": {
          "base_uri": "https://localhost:8080/"
        },
        "id": "hyOFtTNdTQTe",
        "outputId": "655e59d3-574d-40d3-9097-46b57dc50ad6"
      },
      "execution_count": 3,
      "outputs": [
        {
          "output_type": "stream",
          "name": "stdout",
          "text": [
            "Epoch 1/50\n",
            "7/7 [==============================] - 12s 45ms/step - loss: 39.3274 - accuracy: 0.1500\n",
            "Epoch 2/50\n",
            "7/7 [==============================] - 0s 8ms/step - loss: 4.1579 - accuracy: 0.3450\n",
            "Epoch 3/50\n",
            "7/7 [==============================] - 0s 7ms/step - loss: 1.6799 - accuracy: 0.3500\n",
            "Epoch 4/50\n",
            "7/7 [==============================] - 0s 7ms/step - loss: 1.2600 - accuracy: 0.5500\n",
            "Epoch 5/50\n",
            "7/7 [==============================] - 0s 7ms/step - loss: 0.9028 - accuracy: 0.6500\n",
            "Epoch 6/50\n",
            "7/7 [==============================] - 0s 7ms/step - loss: 0.6798 - accuracy: 0.7650\n",
            "Epoch 7/50\n",
            "7/7 [==============================] - 0s 7ms/step - loss: 0.5555 - accuracy: 0.7950\n",
            "Epoch 8/50\n",
            "7/7 [==============================] - 0s 7ms/step - loss: 0.3791 - accuracy: 0.8750\n",
            "Epoch 9/50\n",
            "7/7 [==============================] - 0s 7ms/step - loss: 0.2557 - accuracy: 0.9350\n",
            "Epoch 10/50\n",
            "7/7 [==============================] - 0s 8ms/step - loss: 0.1999 - accuracy: 0.9650\n",
            "Epoch 11/50\n",
            "7/7 [==============================] - 0s 7ms/step - loss: 0.2180 - accuracy: 0.9350\n",
            "Epoch 12/50\n",
            "7/7 [==============================] - 0s 10ms/step - loss: 0.1543 - accuracy: 0.9650\n",
            "Epoch 13/50\n",
            "7/7 [==============================] - 0s 7ms/step - loss: 0.1370 - accuracy: 0.9650\n",
            "Epoch 14/50\n",
            "7/7 [==============================] - 0s 8ms/step - loss: 0.0974 - accuracy: 0.9850\n",
            "Epoch 15/50\n",
            "7/7 [==============================] - 0s 7ms/step - loss: 0.0728 - accuracy: 0.9950\n",
            "Epoch 16/50\n",
            "7/7 [==============================] - 0s 7ms/step - loss: 0.0461 - accuracy: 0.9950\n",
            "Epoch 17/50\n",
            "7/7 [==============================] - 0s 7ms/step - loss: 0.0225 - accuracy: 1.0000\n",
            "Epoch 18/50\n",
            "7/7 [==============================] - 0s 7ms/step - loss: 0.0154 - accuracy: 1.0000\n",
            "Epoch 19/50\n",
            "7/7 [==============================] - 0s 7ms/step - loss: 0.0113 - accuracy: 1.0000\n",
            "Epoch 20/50\n",
            "7/7 [==============================] - 0s 8ms/step - loss: 0.0098 - accuracy: 1.0000\n",
            "Epoch 21/50\n",
            "7/7 [==============================] - 0s 7ms/step - loss: 0.0085 - accuracy: 1.0000\n",
            "Epoch 22/50\n",
            "7/7 [==============================] - 0s 7ms/step - loss: 0.0065 - accuracy: 1.0000\n",
            "Epoch 23/50\n",
            "7/7 [==============================] - 0s 7ms/step - loss: 0.0056 - accuracy: 1.0000\n",
            "Epoch 24/50\n",
            "7/7 [==============================] - 0s 7ms/step - loss: 0.0055 - accuracy: 1.0000\n",
            "Epoch 25/50\n",
            "7/7 [==============================] - 0s 7ms/step - loss: 0.0045 - accuracy: 1.0000\n",
            "Epoch 26/50\n",
            "7/7 [==============================] - 0s 7ms/step - loss: 0.0037 - accuracy: 1.0000\n",
            "Epoch 27/50\n",
            "7/7 [==============================] - 0s 7ms/step - loss: 0.0035 - accuracy: 1.0000\n",
            "Epoch 28/50\n",
            "7/7 [==============================] - 0s 8ms/step - loss: 0.0030 - accuracy: 1.0000\n",
            "Epoch 29/50\n",
            "7/7 [==============================] - 0s 7ms/step - loss: 0.0029 - accuracy: 1.0000\n",
            "Epoch 30/50\n",
            "7/7 [==============================] - 0s 7ms/step - loss: 0.0026 - accuracy: 1.0000\n",
            "Epoch 31/50\n",
            "7/7 [==============================] - 0s 7ms/step - loss: 0.0023 - accuracy: 1.0000\n",
            "Epoch 32/50\n",
            "7/7 [==============================] - 0s 7ms/step - loss: 0.0021 - accuracy: 1.0000\n",
            "Epoch 33/50\n",
            "7/7 [==============================] - 0s 8ms/step - loss: 0.0019 - accuracy: 1.0000\n",
            "Epoch 34/50\n",
            "7/7 [==============================] - 0s 7ms/step - loss: 0.0017 - accuracy: 1.0000\n",
            "Epoch 35/50\n",
            "7/7 [==============================] - 0s 7ms/step - loss: 0.0016 - accuracy: 1.0000\n",
            "Epoch 36/50\n",
            "7/7 [==============================] - 0s 7ms/step - loss: 0.0015 - accuracy: 1.0000\n",
            "Epoch 37/50\n",
            "7/7 [==============================] - 0s 8ms/step - loss: 0.0014 - accuracy: 1.0000\n",
            "Epoch 38/50\n",
            "7/7 [==============================] - 0s 7ms/step - loss: 0.0014 - accuracy: 1.0000\n",
            "Epoch 39/50\n",
            "7/7 [==============================] - 0s 8ms/step - loss: 0.0012 - accuracy: 1.0000\n",
            "Epoch 40/50\n",
            "7/7 [==============================] - 0s 7ms/step - loss: 0.0012 - accuracy: 1.0000\n",
            "Epoch 41/50\n",
            "7/7 [==============================] - 0s 6ms/step - loss: 0.0010 - accuracy: 1.0000\n",
            "Epoch 42/50\n",
            "7/7 [==============================] - 0s 5ms/step - loss: 0.0010 - accuracy: 1.0000\n",
            "Epoch 43/50\n",
            "7/7 [==============================] - 0s 7ms/step - loss: 9.3718e-04 - accuracy: 1.0000\n",
            "Epoch 44/50\n",
            "7/7 [==============================] - 0s 6ms/step - loss: 8.6090e-04 - accuracy: 1.0000\n",
            "Epoch 45/50\n",
            "7/7 [==============================] - 0s 5ms/step - loss: 8.1750e-04 - accuracy: 1.0000\n",
            "Epoch 46/50\n",
            "7/7 [==============================] - 0s 5ms/step - loss: 7.7026e-04 - accuracy: 1.0000\n",
            "Epoch 47/50\n",
            "7/7 [==============================] - 0s 5ms/step - loss: 7.2520e-04 - accuracy: 1.0000\n",
            "Epoch 48/50\n",
            "7/7 [==============================] - 0s 5ms/step - loss: 6.7423e-04 - accuracy: 1.0000\n",
            "Epoch 49/50\n",
            "7/7 [==============================] - 0s 5ms/step - loss: 6.4701e-04 - accuracy: 1.0000\n",
            "Epoch 50/50\n",
            "7/7 [==============================] - 0s 6ms/step - loss: 6.3102e-04 - accuracy: 1.0000\n"
          ]
        }
      ]
    },
    {
      "cell_type": "code",
      "source": [
        "model.evaluate(photos,labels)\n",
        "model.save('Nhandangkhuonmat.h5')\n",
        "classes = [\"5k\",\"10k\",\"20k\",\"50k\",\"100k\",\"200k\",\"500k\",]"
      ],
      "metadata": {
        "colab": {
          "base_uri": "https://localhost:8080/"
        },
        "id": "diEvWOAVTUO2",
        "outputId": "d12568cb-0fde-4426-a85b-147dab4dc7e5"
      },
      "execution_count": 4,
      "outputs": [
        {
          "output_type": "stream",
          "name": "stdout",
          "text": [
            "7/7 [==============================] - 0s 4ms/step - loss: 6.0304e-04 - accuracy: 1.0000\n"
          ]
        }
      ]
    },
    {
      "cell_type": "code",
      "source": [
        "import numpy as np\n",
        "import matplotlib.pyplot as plt\n",
        "\n",
        "img = load_img('/content/drive/MyDrive/test folder/200k 20.jpg', \n",
        "               target_size=(40,30))\n",
        "plt.imshow(img)\n",
        "imgRe = img_to_array(img)\n",
        "imgRe = imgRe.reshape(1,40,30,3)  \n",
        "imgRe = imgRe.astype('float32')\n",
        "imgRe /= 255\n",
        "y_pred = model.predict(imgRe)\n",
        "y_classes = [np.argmax(element) for element in y_pred]\n",
        "y_classes\n",
        "classes[y_classes[0]]"
      ],
      "metadata": {
        "colab": {
          "base_uri": "https://localhost:8080/",
          "height": 469
        },
        "id": "QeOFCfn3TYRG",
        "outputId": "d08ec811-362a-4453-b419-a8b259a97d18"
      },
      "execution_count": 9,
      "outputs": [
        {
          "output_type": "stream",
          "name": "stdout",
          "text": [
            "1/1 [==============================] - 0s 28ms/step\n"
          ]
        },
        {
          "output_type": "execute_result",
          "data": {
            "text/plain": [
              "'200k'"
            ],
            "application/vnd.google.colaboratory.intrinsic+json": {
              "type": "string"
            }
          },
          "metadata": {},
          "execution_count": 9
        },
        {
          "output_type": "display_data",
          "data": {
            "text/plain": [
              "<Figure size 640x480 with 1 Axes>"
            ],
            "image/png": "[encoded data removed]"
          },
          "metadata": {}
        }
      ]
    }
  ]
}