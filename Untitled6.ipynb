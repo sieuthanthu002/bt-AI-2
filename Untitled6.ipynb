{
  "nbformat": 4,
  "nbformat_minor": 0,
  "metadata": {
    "colab": {
      "provenance": [],
      "gpuType": "T4",
      "authorship_tag": "ABX9TyPg7rrZjE6DCL9uw+uyz6GY",
      "include_colab_link": true
    },
    "kernelspec": {
      "name": "python3",
      "display_name": "Python 3"
    },
    "language_info": {
      "name": "python"
    },
    "accelerator": "GPU",
    "gpuClass": "standard"
  },
  "cells": [
    {
      "cell_type": "markdown",
      "metadata": {
        "id": "view-in-github",
        "colab_type": "text"
      },
      "source": [
        "<a href=\"https://colab.research.google.com/github/sieuthanthu002/bt-AI-2/blob/main/Untitled6.ipynb\" target=\"_parent\"><img src=\"https://colab.research.google.com/assets/colab-badge.svg\" alt=\"Open In Colab\"/></a>"
      ]
    },
    {
      "cell_type": "code",
      "execution_count": null,
      "metadata": {
        "colab": {
          "base_uri": "https://localhost:8080/"
        },
        "id": "9wSAUqGk7Or1",
        "outputId": "35583287-141a-446d-8340-7e49f5fdf5ee"
      },
      "outputs": [
        {
          "output_type": "stream",
          "name": "stdout",
          "text": [
            "Mounted at /content/drive\n"
          ]
        }
      ],
      "source": [
        "from google.colab import drive\n",
        "drive.mount('/content/drive')"
      ]
    },
    {
      "cell_type": "code",
      "source": [
        "from os import listdir\n",
        "from numpy import asarray,save\n",
        "from keras.utils import load_img,img_to_array\n",
        "from keras.models import load_model\n",
        "\n",
        "folder = '/content/drive/MyDrive/AI/'\n",
        "photos,labels = list(),list()\n",
        "for file in listdir(folder):\n",
        "  if file.startswith('Nhan'):\n",
        "    output = 0\n",
        "    photo = load_img(folder+file,target_size=(40,30))\n",
        "    photo = img_to_array(photo)\n",
        "    photos.append(photo)\n",
        "    labels.append(output)\n",
        "  else :\n",
        "    output = 1\n",
        "    photo = load_img(folder+file,target_size=(40,30))\n",
        "    photo = img_to_array(photo)\n",
        "    photos.append(photo)\n",
        "    labels.append(output)\n",
        "\n",
        "\n",
        "photos=asarray(photos)\n",
        "labels=asarray(labels)\n",
        "print(photos.shape,labels.shape)\n",
        "save('face.npy',photos)\n",
        "save('face.npy',labels)"
      ],
      "metadata": {
        "colab": {
          "base_uri": "https://localhost:8080/"
        },
        "id": "eZ8TjtI77Tnz",
        "outputId": "8dc2715e-98a7-4a1a-da58-55720bd7cd57"
      },
      "execution_count": null,
      "outputs": [
        {
          "output_type": "stream",
          "name": "stdout",
          "text": [
            "(560, 40, 30, 3) (560,)\n"
          ]
        }
      ]
    },
    {
      "cell_type": "code",
      "source": [
        "from keras.models import Sequential\n",
        "from keras.layers import Dense,Dropout,Flatten,Conv2D,MaxPooling2D,Normalization,LeakyReLU\n",
        "from keras.optimizers import Adam\n",
        "\n",
        "model = Sequential()\n",
        "model.add(Conv2D(32, (3, 3), activation='relu', padding='same', input_shape=(40,30,3)))\n",
        "model.add(MaxPooling2D((2, 2)))\n",
        "model.add(Conv2D(64, (3, 3), activation='relu', padding='same'))\n",
        "model.add(MaxPooling2D((2, 2)))\n",
        "model.add(Conv2D(128, (3, 3), activation='relu', padding='same'))\n",
        "model.add(MaxPooling2D((2, 2)))\n",
        "\n",
        "model.add(Flatten())\n",
        "model.add(Dense(128, activation='relu'))\n",
        "model.add(Dense(10, activation='softmax'))\n",
        "model.compile(optimizer='Adam', loss='sparse_categorical_crossentropy', metrics=['accuracy'])\n",
        "history = model.fit(photos, labels, epochs=50, verbose=1)"
      ],
      "metadata": {
        "colab": {
          "base_uri": "https://localhost:8080/"
        },
        "id": "2RM-Sxf67Tuj",
        "outputId": "2a167294-665e-4d11-e934-8018cf453890"
      },
      "execution_count": null,
      "outputs": [
        {
          "output_type": "stream",
          "name": "stdout",
          "text": [
            "Epoch 1/50\n",
            "18/18 [==============================] - 13s 17ms/step - loss: 14.2072 - accuracy: 0.7161\n",
            "Epoch 2/50\n",
            "18/18 [==============================] - 0s 4ms/step - loss: 0.5741 - accuracy: 0.9268\n",
            "Epoch 3/50\n",
            "18/18 [==============================] - 0s 4ms/step - loss: 0.0355 - accuracy: 0.9946\n",
            "Epoch 4/50\n",
            "18/18 [==============================] - 0s 4ms/step - loss: 0.0255 - accuracy: 0.9893\n",
            "Epoch 5/50\n",
            "18/18 [==============================] - 0s 4ms/step - loss: 0.0078 - accuracy: 0.9964\n",
            "Epoch 6/50\n",
            "18/18 [==============================] - 0s 4ms/step - loss: 0.0016 - accuracy: 1.0000\n",
            "Epoch 7/50\n",
            "18/18 [==============================] - 0s 4ms/step - loss: 0.0018 - accuracy: 1.0000\n",
            "Epoch 8/50\n",
            "18/18 [==============================] - 0s 5ms/step - loss: 0.0024 - accuracy: 1.0000\n",
            "Epoch 9/50\n",
            "18/18 [==============================] - 0s 4ms/step - loss: 7.1070e-04 - accuracy: 1.0000\n",
            "Epoch 10/50\n",
            "18/18 [==============================] - 0s 4ms/step - loss: 3.9570e-04 - accuracy: 1.0000\n",
            "Epoch 11/50\n",
            "18/18 [==============================] - 0s 4ms/step - loss: 3.3514e-04 - accuracy: 1.0000\n",
            "Epoch 12/50\n",
            "18/18 [==============================] - 0s 4ms/step - loss: 2.8104e-04 - accuracy: 1.0000\n",
            "Epoch 13/50\n",
            "18/18 [==============================] - 0s 4ms/step - loss: 2.7955e-04 - accuracy: 1.0000\n",
            "Epoch 14/50\n",
            "18/18 [==============================] - 0s 5ms/step - loss: 2.2626e-04 - accuracy: 1.0000\n",
            "Epoch 15/50\n",
            "18/18 [==============================] - 0s 4ms/step - loss: 1.9959e-04 - accuracy: 1.0000\n",
            "Epoch 16/50\n",
            "18/18 [==============================] - 0s 4ms/step - loss: 1.8901e-04 - accuracy: 1.0000\n",
            "Epoch 17/50\n",
            "18/18 [==============================] - 0s 4ms/step - loss: 1.7798e-04 - accuracy: 1.0000\n",
            "Epoch 18/50\n",
            "18/18 [==============================] - 0s 4ms/step - loss: 1.6294e-04 - accuracy: 1.0000\n",
            "Epoch 19/50\n",
            "18/18 [==============================] - 0s 4ms/step - loss: 1.5347e-04 - accuracy: 1.0000\n",
            "Epoch 20/50\n",
            "18/18 [==============================] - 0s 5ms/step - loss: 1.4322e-04 - accuracy: 1.0000\n",
            "Epoch 21/50\n",
            "18/18 [==============================] - 0s 4ms/step - loss: 1.3578e-04 - accuracy: 1.0000\n",
            "Epoch 22/50\n",
            "18/18 [==============================] - 0s 4ms/step - loss: 1.2507e-04 - accuracy: 1.0000\n",
            "Epoch 23/50\n",
            "18/18 [==============================] - 0s 4ms/step - loss: 1.1875e-04 - accuracy: 1.0000\n",
            "Epoch 24/50\n",
            "18/18 [==============================] - 0s 4ms/step - loss: 1.1316e-04 - accuracy: 1.0000\n",
            "Epoch 25/50\n",
            "18/18 [==============================] - 0s 4ms/step - loss: 9.5725e-05 - accuracy: 1.0000\n",
            "Epoch 26/50\n",
            "18/18 [==============================] - 0s 4ms/step - loss: 9.1185e-05 - accuracy: 1.0000\n",
            "Epoch 27/50\n",
            "18/18 [==============================] - 0s 4ms/step - loss: 8.0922e-05 - accuracy: 1.0000\n",
            "Epoch 28/50\n",
            "18/18 [==============================] - 0s 4ms/step - loss: 6.8958e-05 - accuracy: 1.0000\n",
            "Epoch 29/50\n",
            "18/18 [==============================] - 0s 4ms/step - loss: 4.9210e-05 - accuracy: 1.0000\n",
            "Epoch 30/50\n",
            "18/18 [==============================] - 0s 4ms/step - loss: 4.2221e-05 - accuracy: 1.0000\n",
            "Epoch 31/50\n",
            "18/18 [==============================] - 0s 5ms/step - loss: 3.4375e-05 - accuracy: 1.0000\n",
            "Epoch 32/50\n",
            "18/18 [==============================] - 0s 5ms/step - loss: 3.1034e-05 - accuracy: 1.0000\n",
            "Epoch 33/50\n",
            "18/18 [==============================] - 0s 4ms/step - loss: 2.7392e-05 - accuracy: 1.0000\n",
            "Epoch 34/50\n",
            "18/18 [==============================] - 0s 4ms/step - loss: 2.3692e-05 - accuracy: 1.0000\n",
            "Epoch 35/50\n",
            "18/18 [==============================] - 0s 4ms/step - loss: 2.0628e-05 - accuracy: 1.0000\n",
            "Epoch 36/50\n",
            "18/18 [==============================] - 0s 4ms/step - loss: 1.7801e-05 - accuracy: 1.0000\n",
            "Epoch 37/50\n",
            "18/18 [==============================] - 0s 4ms/step - loss: 1.6055e-05 - accuracy: 1.0000\n",
            "Epoch 38/50\n",
            "18/18 [==============================] - 0s 4ms/step - loss: 1.4375e-05 - accuracy: 1.0000\n",
            "Epoch 39/50\n",
            "18/18 [==============================] - 0s 4ms/step - loss: 1.2980e-05 - accuracy: 1.0000\n",
            "Epoch 40/50\n",
            "18/18 [==============================] - 0s 4ms/step - loss: 1.2021e-05 - accuracy: 1.0000\n",
            "Epoch 41/50\n",
            "18/18 [==============================] - 0s 4ms/step - loss: 1.1021e-05 - accuracy: 1.0000\n",
            "Epoch 42/50\n",
            "18/18 [==============================] - 0s 4ms/step - loss: 1.0358e-05 - accuracy: 1.0000\n",
            "Epoch 43/50\n",
            "18/18 [==============================] - 0s 4ms/step - loss: 9.6263e-06 - accuracy: 1.0000\n",
            "Epoch 44/50\n",
            "18/18 [==============================] - 0s 4ms/step - loss: 9.0677e-06 - accuracy: 1.0000\n",
            "Epoch 45/50\n",
            "18/18 [==============================] - 0s 5ms/step - loss: 8.5475e-06 - accuracy: 1.0000\n",
            "Epoch 46/50\n",
            "18/18 [==============================] - 0s 4ms/step - loss: 8.1372e-06 - accuracy: 1.0000\n",
            "Epoch 47/50\n",
            "18/18 [==============================] - 0s 4ms/step - loss: 7.8201e-06 - accuracy: 1.0000\n",
            "Epoch 48/50\n",
            "18/18 [==============================] - 0s 4ms/step - loss: 7.4197e-06 - accuracy: 1.0000\n",
            "Epoch 49/50\n",
            "18/18 [==============================] - 0s 5ms/step - loss: 7.1392e-06 - accuracy: 1.0000\n",
            "Epoch 50/50\n",
            "18/18 [==============================] - 0s 4ms/step - loss: 6.7274e-06 - accuracy: 1.0000\n"
          ]
        }
      ]
    },
    {
      "cell_type": "code",
      "source": [
        "model.evaluate(photos,labels)\n",
        "model.save('Face_verver2.h5')\n",
        "classes = [\"Confirm\",\"Deny\"]"
      ],
      "metadata": {
        "colab": {
          "base_uri": "https://localhost:8080/"
        },
        "id": "FuwF1dEv7TxN",
        "outputId": "45646b05-27b6-4c0f-dd47-d5958a0550d6"
      },
      "execution_count": null,
      "outputs": [
        {
          "output_type": "stream",
          "name": "stdout",
          "text": [
            "18/18 [==============================] - 0s 3ms/step - loss: 6.4100e-06 - accuracy: 1.0000\n"
          ]
        }
      ]
    },
    {
      "cell_type": "code",
      "source": [
        "test_loss,test_acc = model. evaluate(photos,labels)\n",
        "print(test_loss)\n",
        "print(test_acc)"
      ],
      "metadata": {
        "colab": {
          "base_uri": "https://localhost:8080/"
        },
        "id": "g-J45-DT7Tzy",
        "outputId": "e612a79a-f082-4346-9f2d-a3b20234d74a"
      },
      "execution_count": null,
      "outputs": [
        {
          "output_type": "stream",
          "name": "stdout",
          "text": [
            "18/18 [==============================] - 0s 3ms/step - loss: 6.4100e-06 - accuracy: 1.0000\n",
            "6.410004061763175e-06\n",
            "1.0\n"
          ]
        }
      ]
    },
    {
      "cell_type": "code",
      "source": [
        "import numpy as np\n",
        "import matplotlib.pyplot as plt\n",
        "\n",
        "img = load_img('/content/drive/MyDrive/AI/Nhan 54.jpg', target_size=(40,30))\n",
        "plt.imshow(img)\n",
        "imgRe = img_to_array(img)\n",
        "imgRe = imgRe.reshape(1,40,30,3)  \n",
        "imgRe = imgRe.astype('float32')\n",
        "imgRe /= 255\n",
        "y_pred = model.predict(imgRe)\n",
        "print(y_pred)\n",
        "y_classes = [np.argmax(element) for element in y_pred]\n",
        "y_classes\n",
        "classes[y_classes[0]]"
      ],
      "metadata": {
        "colab": {
          "base_uri": "https://localhost:8080/",
          "height": 501
        },
        "id": "WF8HGJmz7T26",
        "outputId": "3b1c338d-be77-4445-80d1-92f940a4bd69"
      },
      "execution_count": null,
      "outputs": [
        {
          "output_type": "stream",
          "name": "stdout",
          "text": [
            "1/1 [==============================] - 0s 182ms/step\n",
            "[[0.14909253 0.13843922 0.10049495 0.09127401 0.08026322 0.09761536\n",
            "  0.09555873 0.05958206 0.0853602  0.10231975]]\n"
          ]
        },
        {
          "output_type": "execute_result",
          "data": {
            "text/plain": [
              "'Confirm'"
            ],
            "application/vnd.google.colaboratory.intrinsic+json": {
              "type": "string"
            }
          },
          "metadata": {},
          "execution_count": 7
        },
        {
          "output_type": "display_data",
          "data": {
            "text/plain": [
              "<Figure size 640x480 with 1 Axes>"
            ],
            "image/png": "[encoded data removed]"
          },
          "metadata": {}
        }
      ]
    },
    {
      "cell_type": "code",
      "source": [
        "import numpy as np\n",
        "import matplotlib.pyplot as plt\n",
        "\n",
        "img = load_img('/content/drive/MyDrive/AI_image/Tri (0).jpg', target_size=(40,30))\n",
        "plt.imshow(img)\n",
        "imgRe = img_to_array(img)\n",
        "imgRe = imgRe.reshape(1,40,30,3)  \n",
        "imgRe = imgRe.astype('float32')\n",
        "imgRe /= 255\n",
        "y_pred = model.predict(imgRe)\n",
        "print(y_pred)\n",
        "y_classes = [np.argmax(element) for element in y_pred]\n",
        "y_classes\n",
        "classes[y_classes[0]]"
      ],
      "metadata": {
        "colab": {
          "base_uri": "https://localhost:8080/",
          "height": 501
        },
        "id": "qZ2h7Km67T5B",
        "outputId": "862833ad-8012-40ba-bb3c-c390fa341443"
      },
      "execution_count": null,
      "outputs": [
        {
          "output_type": "stream",
          "name": "stdout",
          "text": [
            "1/1 [==============================] - 0s 152ms/step\n",
            "[[0.1486961  0.16325425 0.10110654 0.08659369 0.07922475 0.09061451\n",
            "  0.0897916  0.05013133 0.08465031 0.10593697]]\n"
          ]
        },
        {
          "output_type": "execute_result",
          "data": {
            "text/plain": [
              "'Deny'"
            ],
            "application/vnd.google.colaboratory.intrinsic+json": {
              "type": "string"
            }
          },
          "metadata": {},
          "execution_count": 8
        },
        {
          "output_type": "display_data",
          "data": {
            "text/plain": [
              "<Figure size 640x480 with 1 Axes>"
            ],
            "image/png": "[encoded data removed]"
          },
          "metadata": {}
        }
      ]
    }
  ]
}