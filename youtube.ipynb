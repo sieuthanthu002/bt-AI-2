{
  "nbformat": 4,
  "nbformat_minor": 0,
  "metadata": {
    "colab": {
      "provenance": [],
      "authorship_tag": "ABX9TyNwhU4ab4dRhYOkYBogGqFp",
      "include_colab_link": true
    },
    "kernelspec": {
      "name": "python3",
      "display_name": "Python 3"
    },
    "language_info": {
      "name": "python"
    }
  },
  "cells": [
    {
      "cell_type": "markdown",
      "metadata": {
        "id": "view-in-github",
        "colab_type": "text"
      },
      "source": [
        "<a href=\"https://colab.research.google.com/github/sieuthanthu002/bt-AI-2/blob/main/youtube.ipynb\" target=\"_parent\"><img src=\"https://colab.research.google.com/assets/colab-badge.svg\" alt=\"Open In Colab\"/></a>"
      ]
    },
    {
      "cell_type": "code",
      "execution_count": null,
      "metadata": {
        "colab": {
          "base_uri": "https://localhost:8080/"
        },
        "id": "0JH7GtLXEK7B",
        "outputId": "3eacc555-27c2-4202-a930-a559d6a5d72d"
      },
      "outputs": [
        {
          "output_type": "stream",
          "name": "stdout",
          "text": [
            "Looking in indexes: https://pypi.org/simple, https://us-python.pkg.dev/colab-wheels/public/simple/\n",
            "Requirement already satisfied: youtube_search in /usr/local/lib/python3.9/dist-packages (2.1.2)\n",
            "Requirement already satisfied: requests in /usr/local/lib/python3.9/dist-packages (from youtube_search) (2.27.1)\n",
            "Requirement already satisfied: idna<4,>=2.5 in /usr/local/lib/python3.9/dist-packages (from requests->youtube_search) (3.4)\n",
            "Requirement already satisfied: charset-normalizer~=2.0.0 in /usr/local/lib/python3.9/dist-packages (from requests->youtube_search) (2.0.12)\n",
            "Requirement already satisfied: urllib3<1.27,>=1.21.1 in /usr/local/lib/python3.9/dist-packages (from requests->youtube_search) (1.26.15)\n",
            "Requirement already satisfied: certifi>=2017.4.17 in /usr/local/lib/python3.9/dist-packages (from requests->youtube_search) (2022.12.7)\n"
          ]
        }
      ],
      "source": [
        "pip install youtube_search"
      ]
    },
    {
      "cell_type": "code",
      "source": [
        "pip install openpyxl"
      ],
      "metadata": {
        "colab": {
          "base_uri": "https://localhost:8080/"
        },
        "id": "bP-onz-r4pXw",
        "outputId": "c09684db-fd1c-41f9-b2ef-0cfb3a6c0093"
      },
      "execution_count": null,
      "outputs": [
        {
          "output_type": "stream",
          "name": "stdout",
          "text": [
            "Looking in indexes: https://pypi.org/simple, https://us-python.pkg.dev/colab-wheels/public/simple/\n",
            "Requirement already satisfied: openpyxl in /usr/local/lib/python3.9/dist-packages (3.0.10)\n",
            "Requirement already satisfied: et-xmlfile in /usr/local/lib/python3.9/dist-packages (from openpyxl) (1.1.0)\n"
          ]
        }
      ]
    },
    {
      "cell_type": "code",
      "source": [
        "from youtube_search import YoutubeSearch\n",
        "import webbrowser\n",
        "\n",
        "mysong = input('nhap ten bai hat ')\n",
        "result=YoutubeSearch(mysong,max_results=10).to_dict()\n",
        "print(result)\n",
        "print(result[0]['url_suffix'])\n",
        "url='http://www.youtube.com'+result[0]['url_suffix']\n",
        "print(url)"
      ],
      "metadata": {
        "colab": {
          "base_uri": "https://localhost:8080/"
        },
        "id": "cg2O6LMREV1z",
        "outputId": "88e7acce-7953-4b7e-8d77-2e98d664a9f1"
      },
      "execution_count": null,
      "outputs": [
        {
          "output_type": "stream",
          "name": "stdout",
          "text": [
            "nhap ten bai hat timber\n",
            "[{'id': 'hHUbLv4ThOo', 'thumbnails': ['https://i.ytimg.com/vi/hHUbLv4ThOo/hq720.jpg?sqp=-oaymwEjCOgCEMoBSFryq4qpAxUIARUAAAAAGAElAADIQj0AgKJDeAE=&rs=AOn4CLAZMUpEorJQ_gPJgidp6_hS4V7uRA', 'https://i.ytimg.com/vi/hHUbLv4ThOo/hq720.jpg?sqp=-oaymwEXCNAFEJQDSFryq4qpAwkIARUAAIhCGAE=&rs=AOn4CLBkfU3p1HCaZPBYRxlCggU3EHZFEQ'], 'title': 'Pitbull - Timber (Official Video) ft. Ke$ha', 'long_desc': None, 'channel': 'Pitbull', 'duration': '3:35', 'views': '1,419,720,092 views', 'publish_time': '9 years ago', 'url_suffix': '/watch?v=hHUbLv4ThOo&pp=ygUGdGltYmVy'}, {'id': 'pzeGGTT69A4', 'thumbnails': ['https://i.ytimg.com/vi/pzeGGTT69A4/hq720.jpg?sqp=-oaymwEjCOgCEMoBSFryq4qpAxUIARUAAAAAGAElAADIQj0AgKJDeAE=&rs=AOn4CLDqNSscSSQ0bX1717ezTzAWyKyYLQ', 'https://i.ytimg.com/vi/pzeGGTT69A4/hq720.jpg?sqp=-oaymwEXCNAFEJQDSFryq4qpAwkIARUAAIhCGAE=&rs=AOn4CLCZOl9swtA0NSqn4O8gtLC1AFgEfw'], 'title': 'Pitbull - Timber (Lyrics) ft. Ke$ha', 'long_desc': None, 'channel': 'Loku', 'duration': '3:56', 'views': '31,453,951 views', 'publish_time': '2 years ago', 'url_suffix': '/watch?v=pzeGGTT69A4&pp=ygUGdGltYmVy'}, {'id': 'a1zQ1xOjZnk', 'thumbnails': ['https://i.ytimg.com/vi/a1zQ1xOjZnk/hq720.jpg?sqp=-oaymwE9COgCEMoBSFryq4qpAy8IARUAAAAAGAElAADIQj0AgKJDeAHwAQH4Af4JgALQBYoCDAgAEAEYciBnKDEwDw==&rs=AOn4CLCFFbL4PtoN1-0JEqed6SUqXTnj1A', 'https://i.ytimg.com/vi/a1zQ1xOjZnk/hq720.jpg?sqp=-oaymwExCNAFEJQDSFryq4qpAyMIARUAAIhCGAHwAQH4Af4JgALQBYoCDAgAEAEYciBnKDEwDw==&rs=AOn4CLD5x545_u4dAQPjARMNhMTFz21SJg'], 'title': 'Just Dance 2014   Timber', 'long_desc': None, 'channel': 'Just Dance', 'duration': '3:40', 'views': '29,094,267 views', 'publish_time': '4 years ago', 'url_suffix': '/watch?v=a1zQ1xOjZnk&pp=ygUGdGltYmVy'}, {'id': '_wsl0NsKSkE', 'thumbnails': ['https://i.ytimg.com/vi/_wsl0NsKSkE/hq720.jpg?sqp=-oaymwE9COgCEMoBSFryq4qpAy8IARUAAAAAGAElAADIQj0AgKJDeAHwAQH4Af4JgALQBYoCDAgAEAEYciBIKDcwDw==&rs=AOn4CLBPzDocbL4ukyAUxqaelFJc4-BEDg', 'https://i.ytimg.com/vi/_wsl0NsKSkE/hq720.jpg?sqp=-oaymwExCNAFEJQDSFryq4qpAyMIARUAAIhCGAHwAQH4Af4JgALQBYoCDAgAEAEYciBIKDcwDw==&rs=AOn4CLCMgF_OOTBCKfZzeM6I-AJZQhnDaQ'], 'title': \"FLASH MOB WEDDING dance (Kesha's Timber)\", 'long_desc': None, 'channel': 'Rebecca Zamolo', 'duration': '3:57', 'views': '29,579,170 views', 'publish_time': '8 years ago', 'url_suffix': '/watch?v=_wsl0NsKSkE&pp=ygUGdGltYmVy'}, {'id': 'zHESy8XsJPs', 'thumbnails': ['https://i.ytimg.com/vi/zHESy8XsJPs/hqdefault.jpg?sqp=-oaymwEjCOADEI4CSFryq4qpAxUIARUAAAAAGAElAADIQj0AgKJDeAE=&rs=AOn4CLCqb15wNvRBS1oziVsZVvyyX5vRAw'], 'title': 'Pitbull - Timber (Audio) ft. Ke$ha', 'long_desc': None, 'channel': 'Pitbull', 'duration': '3:26', 'views': '47,935,878 views', 'publish_time': '9 years ago', 'url_suffix': '/watch?v=zHESy8XsJPs&pp=ygUGdGltYmVy'}, {'id': 'vxNarnXIQyo', 'thumbnails': ['https://i.ytimg.com/vi/vxNarnXIQyo/hq720.jpg?sqp=-oaymwEjCOgCEMoBSFryq4qpAxUIARUAAAAAGAElAADIQj0AgKJDeAE=&rs=AOn4CLCSmaA3iXDikXQnubZBhYRlYuhwCg', 'https://i.ytimg.com/vi/vxNarnXIQyo/hq720.jpg?sqp=-oaymwEXCNAFEJQDSFryq4qpAwkIARUAAIhCGAE=&rs=AOn4CLDMnyYqw4r8KgtP0ExwWDzR48MoMA'], 'title': '[1 Hour] Timber - Pitbull ft. Ke$ha | 1 Hour Loop', 'long_desc': None, 'channel': 'Just Vibes ', 'duration': '1:00:26', 'views': '440,939 views', 'publish_time': '1 year ago', 'url_suffix': '/watch?v=vxNarnXIQyo&pp=ygUGdGltYmVy'}, {'id': 'CWEJ4MghHmA', 'thumbnails': ['https://i.ytimg.com/vi/CWEJ4MghHmA/hq720.jpg?sqp=-oaymwEjCOgCEMoBSFryq4qpAxUIARUAAAAAGAElAADIQj0AgKJDeAE=&rs=AOn4CLAwCPjUavQ6xoTI5YjDHcRR0Ycvdg', 'https://i.ytimg.com/vi/CWEJ4MghHmA/hq720.jpg?sqp=-oaymwEXCNAFEJQDSFryq4qpAwkIARUAAIhCGAE=&rs=AOn4CLAINYW2YmLp5xXq8fBcVJ-JtFyigA'], 'title': 'KIDZ BOP Kids - Timber (KIDZ BOP 26)', 'long_desc': None, 'channel': 'KIDZ BOP', 'duration': '3:11', 'views': '3,111,156 views', 'publish_time': '8 years ago', 'url_suffix': '/watch?v=CWEJ4MghHmA&pp=ygUGdGltYmVy'}, {'id': 'HKNMwpixPCE', 'thumbnails': ['https://i.ytimg.com/vi/HKNMwpixPCE/hq720.jpg?sqp=-oaymwEjCOgCEMoBSFryq4qpAxUIARUAAAAAGAElAADIQj0AgKJDeAE=&rs=AOn4CLBkChFocYObzW0sw5K35rYAw5L3fQ', 'https://i.ytimg.com/vi/HKNMwpixPCE/hq720.jpg?sqp=-oaymwEXCNAFEJQDSFryq4qpAwkIARUAAIhCGAE=&rs=AOn4CLATcHcKAdEEfW3gfoEMLeEu0bscvA'], 'title': 'First part of timber frame partitioning – Renovation vlog #56', 'long_desc': None, 'channel': 'Les Jérômes', 'duration': '20:32', 'views': '66,605 views', 'publish_time': '2 days ago', 'url_suffix': '/watch?v=HKNMwpixPCE&pp=ygUGdGltYmVy'}, {'id': 'Vc2pJcIUCpk', 'thumbnails': ['https://i.ytimg.com/vi/Vc2pJcIUCpk/hq720.jpg?sqp=-oaymwEjCOgCEMoBSFryq4qpAxUIARUAAAAAGAElAADIQj0AgKJDeAE=&rs=AOn4CLAszVbgFSqAmBz5GctYcHMbhJWgOQ', 'https://i.ytimg.com/vi/Vc2pJcIUCpk/hq720.jpg?sqp=-oaymwEXCNAFEJQDSFryq4qpAwkIARUAAIhCGAE=&rs=AOn4CLC2XN1iiJ3DIiKGdz15urZ9c6-Rmw'], 'title': 'Pitbull - Timber ( Lyric ) 🎵', 'long_desc': None, 'channel': 'PJ Music', 'duration': '3:25', 'views': '71,572 views', 'publish_time': '9 months ago', 'url_suffix': '/watch?v=Vc2pJcIUCpk&pp=ygUGdGltYmVy'}, {'id': 'wlsdMpnDBn8', 'thumbnails': ['https://i.ytimg.com/vi/wlsdMpnDBn8/hq720.jpg?sqp=-oaymwEjCOgCEMoBSFryq4qpAxUIARUAAAAAGAElAADIQj0AgKJDeAE=&rs=AOn4CLBVKdtZw0m-ZjtSnBn60TxX5Hufww', 'https://i.ytimg.com/vi/wlsdMpnDBn8/hq720.jpg?sqp=-oaymwEXCNAFEJQDSFryq4qpAwkIARUAAIhCGAE=&rs=AOn4CLDlg2uEWQNQMLFiYtt930my-C2Vow'], 'title': 'Timber | A Chill Mix', 'long_desc': None, 'channel': 'Koala Kontrol', 'duration': '1:01:45', 'views': '33,142,364 views', 'publish_time': '7 years ago', 'url_suffix': '/watch?v=wlsdMpnDBn8&pp=ygUGdGltYmVy'}]\n",
            "/watch?v=hHUbLv4ThOo&pp=ygUGdGltYmVy\n",
            "http://www.youtube.com/watch?v=hHUbLv4ThOo&pp=ygUGdGltYmVy\n"
          ]
        }
      ]
    },
    {
      "cell_type": "code",
      "source": [
        "from openpyxl import Workbook\n",
        "\n",
        "data=Workbook()\n",
        "sheet=data.active\n",
        "for i in range(10):\n",
        "  print(result[i]['title'])\n",
        "  print(result[i]['url_suffix'])\n",
        "  url='https://www.youtube.com'+result[i]['url_suffix']\n",
        "  print(url)\n",
        "  sheet['A'+str(i+1)]=i+1\n",
        "  sheet['B'+str(i+1)]=result[i]['title']\n",
        "  sheet['C'+str(i+1)]=result[i]['url_suffix']\n",
        "  sheet['D'+str(i+1)]=result[i]['views']\n",
        "  sheet['E'+str(i+1)]=result[i]['channel']\n",
        "  sheet['F'+str(i+1)]=result[i]['publish_time']\n",
        "  sheet['G'+str(i+1)]=result[i]['duration']\n",
        "data.save('UTE.xlsx')"
      ],
      "metadata": {
        "id": "C8qN98mvGYdI",
        "colab": {
          "base_uri": "https://localhost:8080/"
        },
        "outputId": "bd7c89df-a64e-48d7-f180-c1201164fbac"
      },
      "execution_count": null,
      "outputs": [
        {
          "output_type": "stream",
          "name": "stdout",
          "text": [
            "Pitbull - Timber (Official Video) ft. Ke$ha\n",
            "/watch?v=hHUbLv4ThOo&pp=ygUGdGltYmVy\n",
            "https://www.youtube.com/watch?v=hHUbLv4ThOo&pp=ygUGdGltYmVy\n",
            "Pitbull - Timber (Lyrics) ft. Ke$ha\n",
            "/watch?v=pzeGGTT69A4&pp=ygUGdGltYmVy\n",
            "https://www.youtube.com/watch?v=pzeGGTT69A4&pp=ygUGdGltYmVy\n",
            "Just Dance 2014   Timber\n",
            "/watch?v=a1zQ1xOjZnk&pp=ygUGdGltYmVy\n",
            "https://www.youtube.com/watch?v=a1zQ1xOjZnk&pp=ygUGdGltYmVy\n",
            "FLASH MOB WEDDING dance (Kesha's Timber)\n",
            "/watch?v=_wsl0NsKSkE&pp=ygUGdGltYmVy\n",
            "https://www.youtube.com/watch?v=_wsl0NsKSkE&pp=ygUGdGltYmVy\n",
            "Pitbull - Timber (Audio) ft. Ke$ha\n",
            "/watch?v=zHESy8XsJPs&pp=ygUGdGltYmVy\n",
            "https://www.youtube.com/watch?v=zHESy8XsJPs&pp=ygUGdGltYmVy\n",
            "[1 Hour] Timber - Pitbull ft. Ke$ha | 1 Hour Loop\n",
            "/watch?v=vxNarnXIQyo&pp=ygUGdGltYmVy\n",
            "https://www.youtube.com/watch?v=vxNarnXIQyo&pp=ygUGdGltYmVy\n",
            "KIDZ BOP Kids - Timber (KIDZ BOP 26)\n",
            "/watch?v=CWEJ4MghHmA&pp=ygUGdGltYmVy\n",
            "https://www.youtube.com/watch?v=CWEJ4MghHmA&pp=ygUGdGltYmVy\n",
            "First part of timber frame partitioning – Renovation vlog #56\n",
            "/watch?v=HKNMwpixPCE&pp=ygUGdGltYmVy\n",
            "https://www.youtube.com/watch?v=HKNMwpixPCE&pp=ygUGdGltYmVy\n",
            "Pitbull - Timber ( Lyric ) 🎵\n",
            "/watch?v=Vc2pJcIUCpk&pp=ygUGdGltYmVy\n",
            "https://www.youtube.com/watch?v=Vc2pJcIUCpk&pp=ygUGdGltYmVy\n",
            "Timber | A Chill Mix\n",
            "/watch?v=wlsdMpnDBn8&pp=ygUGdGltYmVy\n",
            "https://www.youtube.com/watch?v=wlsdMpnDBn8&pp=ygUGdGltYmVy\n"
          ]
        }
      ]
    },
    {
      "cell_type": "code",
      "source": [],
      "metadata": {
        "id": "GntnX7Ya4oCt"
      },
      "execution_count": null,
      "outputs": []
    }
  ]
}