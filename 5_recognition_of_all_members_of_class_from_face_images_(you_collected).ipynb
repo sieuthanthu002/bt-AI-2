{
  "nbformat": 4,
  "nbformat_minor": 0,
  "metadata": {
    "colab": {
      "provenance": [],
      "mount_file_id": "1Z2SszTzjHd2Eyv3J8UMiZ1DQAjYH_RZh",
      "authorship_tag": "ABX9TyNThyJJGoUsn0w5t80a1ZUD",
      "include_colab_link": true
    },
    "kernelspec": {
      "name": "python3",
      "display_name": "Python 3"
    },
    "language_info": {
      "name": "python"
    },
    "accelerator": "GPU",
    "gpuClass": "standard"
  },
  "cells": [
    {
      "cell_type": "markdown",
      "metadata": {
        "id": "view-in-github",
        "colab_type": "text"
      },
      "source": [
        "<a href=\"https://colab.research.google.com/github/sieuthanthu002/bt-AI-2/blob/main/5_recognition_of_all_members_of_class_from_face_images_(you_collected).ipynb\" target=\"_parent\"><img src=\"https://colab.research.google.com/assets/colab-badge.svg\" alt=\"Open In Colab\"/></a>"
      ]
    },
    {
      "cell_type": "code",
      "execution_count": 27,
      "metadata": {
        "colab": {
          "base_uri": "https://localhost:8080/"
        },
        "id": "FlUwEq9vgDwj",
        "outputId": "83788c04-8128-4d73-93b9-62ce3e1a84fa"
      },
      "outputs": [
        {
          "output_type": "stream",
          "name": "stdout",
          "text": [
            "Drive already mounted at /content/drive; to attempt to forcibly remount, call drive.mount(\"/content/drive\", force_remount=True).\n"
          ]
        }
      ],
      "source": [
        "from google.colab import drive\n",
        "drive.mount('/content/drive')"
      ]
    },
    {
      "cell_type": "code",
      "source": [
        "from os import listdir\n",
        "from numpy import asarray,save\n",
        "from keras.utils import load_img,img_to_array\n",
        "\n",
        "folder = '/content/drive/MyDrive/AI/'\n",
        "photos,labels = list(),list()\n",
        "for file in listdir(folder):\n",
        "  if file.startswith('Anh'):\n",
        "    output = 0\n",
        "    photo = load_img(folder+file,target_size=(40,30))\n",
        "    photo = img_to_array(photo)\n",
        "    photos.append(photo)\n",
        "    labels.append(output)\n",
        "for file in listdir(folder):\n",
        "  if file.startswith('Tri'):\n",
        "    output = 1\n",
        "    photo = load_img(folder+file,target_size=(40,30))\n",
        "    photo = img_to_array(photo)\n",
        "    photos.append(photo)\n",
        "    labels.append(output)\n",
        "for file in listdir(folder):\n",
        "  if file.startswith('Nhat'):\n",
        "    output = 2\n",
        "    photo = load_img(folder+file,target_size=(40,30))\n",
        "    photo = img_to_array(photo)\n",
        "    photos.append(photo)\n",
        "    labels.append(output)\n",
        "for file in listdir(folder):\n",
        "  if file.startswith('AN'):\n",
        "    output = 3\n",
        "    photo = load_img(folder+file,target_size=(40,30))\n",
        "    photo = img_to_array(photo)\n",
        "    photos.append(photo)\n",
        "    labels.append(output)\n",
        "for file in listdir(folder):\n",
        "  if file.startswith('Khang'):\n",
        "    output = 4\n",
        "    photo = load_img(folder+file,target_size=(40,30))\n",
        "    photo = img_to_array(photo)\n",
        "    photos.append(photo)\n",
        "    labels.append(output)\n",
        "for file in listdir(folder):\n",
        "  if file.startswith('Truc'):\n",
        "    output = 5\n",
        "    photo = load_img(folder+file,target_size=(40,30))\n",
        "    photo = img_to_array(photo)\n",
        "    photos.append(photo)\n",
        "    labels.append(output)\n",
        "for file in listdir(folder):\n",
        "  if file.startswith('Quan'):\n",
        "    output = 6\n",
        "    photo = load_img(folder+file,target_size=(40,30))\n",
        "    photo = img_to_array(photo)\n",
        "    photos.append(photo)\n",
        "    labels.append(output)\n",
        "for file in listdir(folder):\n",
        "  if file.startswith('dung'):\n",
        "    output = 7\n",
        "    photo = load_img(folder+file,target_size=(40,30))\n",
        "    photo = img_to_array(photo)\n",
        "    photos.append(photo)\n",
        "    labels.append(output)\n",
        "\n",
        "\n",
        "photos=asarray(photos)\n",
        "labels=asarray(labels)\n",
        "print(photos.shape,labels.shape)\n",
        "save('face.npy',photos)\n",
        "save('face.npy',labels)"
      ],
      "metadata": {
        "id": "WbBk_7oYgWLT",
        "colab": {
          "base_uri": "https://localhost:8080/"
        },
        "outputId": "4319ad49-7b42-47ad-9c53-ffa2cde805a1"
      },
      "execution_count": 28,
      "outputs": [
        {
          "output_type": "stream",
          "name": "stdout",
          "text": [
            "(460, 40, 30, 3) (460,)\n"
          ]
        }
      ]
    },
    {
      "cell_type": "code",
      "source": [
        "from keras.models import Sequential\n",
        "from keras.layers import Dense,Dropout,Flatten,Conv2D,MaxPooling2D,Normalization,LeakyReLU\n",
        "from keras.optimizers import Adam\n",
        "\n",
        "model = Sequential()\n",
        "model.add(Conv2D(32, (3, 3), activation='relu', padding='same', input_shape=(40,30,3)))\n",
        "model.add(MaxPooling2D((2, 2)))\n",
        "\n",
        "model.add(Conv2D(64, (3, 3), activation='relu', padding='same'))\n",
        "model.add(MaxPooling2D((2, 2)))\n",
        "\n",
        "model.add(Conv2D(128, (3, 3), activation='relu', padding='same'))\n",
        "model.add(MaxPooling2D((2, 2)))\n",
        "model.add(Flatten())\n",
        "\n",
        "model.add(Dense(128, activation='relu'))\n",
        "model.add(Dense(10, activation='softmax'))\n",
        "\n",
        "\n",
        "model.compile(optimizer='Adam', loss='sparse_categorical_crossentropy', metrics=['accuracy'])"
      ],
      "metadata": {
        "id": "EhErjFHKjL5m"
      },
      "execution_count": 29,
      "outputs": []
    },
    {
      "cell_type": "code",
      "source": [
        "history = model.fit(photos, labels, epochs=50, verbose=1)"
      ],
      "metadata": {
        "colab": {
          "base_uri": "https://localhost:8080/"
        },
        "id": "UgvqDqIXjtCn",
        "outputId": "3da7e6ef-050b-4bde-d5b8-e4ddde8b6556"
      },
      "execution_count": 30,
      "outputs": [
        {
          "output_type": "stream",
          "name": "stdout",
          "text": [
            "Epoch 1/50\n",
            "15/15 [==============================] - 3s 20ms/step - loss: 25.8207 - accuracy: 0.2304\n",
            "Epoch 2/50\n",
            "15/15 [==============================] - 0s 5ms/step - loss: 0.5309 - accuracy: 0.8304\n",
            "Epoch 3/50\n",
            "15/15 [==============================] - 0s 4ms/step - loss: 0.1100 - accuracy: 0.9761\n",
            "Epoch 4/50\n",
            "15/15 [==============================] - 0s 5ms/step - loss: 0.0313 - accuracy: 0.9913\n",
            "Epoch 5/50\n",
            "15/15 [==============================] - 0s 4ms/step - loss: 0.0101 - accuracy: 1.0000\n",
            "Epoch 6/50\n",
            "15/15 [==============================] - 0s 4ms/step - loss: 0.0038 - accuracy: 1.0000\n",
            "Epoch 7/50\n",
            "15/15 [==============================] - 0s 5ms/step - loss: 0.0024 - accuracy: 1.0000\n",
            "Epoch 8/50\n",
            "15/15 [==============================] - 0s 4ms/step - loss: 0.0013 - accuracy: 1.0000\n",
            "Epoch 9/50\n",
            "15/15 [==============================] - 0s 4ms/step - loss: 9.4277e-04 - accuracy: 1.0000\n",
            "Epoch 10/50\n",
            "15/15 [==============================] - 0s 4ms/step - loss: 7.2147e-04 - accuracy: 1.0000\n",
            "Epoch 11/50\n",
            "15/15 [==============================] - 0s 4ms/step - loss: 5.2097e-04 - accuracy: 1.0000\n",
            "Epoch 12/50\n",
            "15/15 [==============================] - 0s 5ms/step - loss: 3.9832e-04 - accuracy: 1.0000\n",
            "Epoch 13/50\n",
            "15/15 [==============================] - 0s 5ms/step - loss: 3.2912e-04 - accuracy: 1.0000\n",
            "Epoch 14/50\n",
            "15/15 [==============================] - 0s 4ms/step - loss: 2.7276e-04 - accuracy: 1.0000\n",
            "Epoch 15/50\n",
            "15/15 [==============================] - 0s 4ms/step - loss: 2.2979e-04 - accuracy: 1.0000\n",
            "Epoch 16/50\n",
            "15/15 [==============================] - 0s 5ms/step - loss: 1.9936e-04 - accuracy: 1.0000\n",
            "Epoch 17/50\n",
            "15/15 [==============================] - 0s 4ms/step - loss: 1.7423e-04 - accuracy: 1.0000\n",
            "Epoch 18/50\n",
            "15/15 [==============================] - 0s 6ms/step - loss: 1.5095e-04 - accuracy: 1.0000\n",
            "Epoch 19/50\n",
            "15/15 [==============================] - 0s 5ms/step - loss: 1.3154e-04 - accuracy: 1.0000\n",
            "Epoch 20/50\n",
            "15/15 [==============================] - 0s 5ms/step - loss: 1.1826e-04 - accuracy: 1.0000\n",
            "Epoch 21/50\n",
            "15/15 [==============================] - 0s 5ms/step - loss: 9.9702e-05 - accuracy: 1.0000\n",
            "Epoch 22/50\n",
            "15/15 [==============================] - 0s 4ms/step - loss: 8.7998e-05 - accuracy: 1.0000\n",
            "Epoch 23/50\n",
            "15/15 [==============================] - 0s 4ms/step - loss: 7.7496e-05 - accuracy: 1.0000\n",
            "Epoch 24/50\n",
            "15/15 [==============================] - 0s 5ms/step - loss: 6.9749e-05 - accuracy: 1.0000\n",
            "Epoch 25/50\n",
            "15/15 [==============================] - 0s 4ms/step - loss: 6.2231e-05 - accuracy: 1.0000\n",
            "Epoch 26/50\n",
            "15/15 [==============================] - 0s 4ms/step - loss: 5.6805e-05 - accuracy: 1.0000\n",
            "Epoch 27/50\n",
            "15/15 [==============================] - 0s 4ms/step - loss: 5.0422e-05 - accuracy: 1.0000\n",
            "Epoch 28/50\n",
            "15/15 [==============================] - 0s 4ms/step - loss: 4.5099e-05 - accuracy: 1.0000\n",
            "Epoch 29/50\n",
            "15/15 [==============================] - 0s 4ms/step - loss: 4.1403e-05 - accuracy: 1.0000\n",
            "Epoch 30/50\n",
            "15/15 [==============================] - 0s 4ms/step - loss: 3.7399e-05 - accuracy: 1.0000\n",
            "Epoch 31/50\n",
            "15/15 [==============================] - 0s 4ms/step - loss: 3.4049e-05 - accuracy: 1.0000\n",
            "Epoch 32/50\n",
            "15/15 [==============================] - 0s 4ms/step - loss: 3.1206e-05 - accuracy: 1.0000\n",
            "Epoch 33/50\n",
            "15/15 [==============================] - 0s 4ms/step - loss: 2.8828e-05 - accuracy: 1.0000\n",
            "Epoch 34/50\n",
            "15/15 [==============================] - 0s 4ms/step - loss: 2.6634e-05 - accuracy: 1.0000\n",
            "Epoch 35/50\n",
            "15/15 [==============================] - 0s 4ms/step - loss: 2.4761e-05 - accuracy: 1.0000\n",
            "Epoch 36/50\n",
            "15/15 [==============================] - 0s 4ms/step - loss: 2.3132e-05 - accuracy: 1.0000\n",
            "Epoch 37/50\n",
            "15/15 [==============================] - 0s 4ms/step - loss: 2.1482e-05 - accuracy: 1.0000\n",
            "Epoch 38/50\n",
            "15/15 [==============================] - 0s 5ms/step - loss: 2.0036e-05 - accuracy: 1.0000\n",
            "Epoch 39/50\n",
            "15/15 [==============================] - 0s 4ms/step - loss: 1.8724e-05 - accuracy: 1.0000\n",
            "Epoch 40/50\n",
            "15/15 [==============================] - 0s 4ms/step - loss: 1.7582e-05 - accuracy: 1.0000\n",
            "Epoch 41/50\n",
            "15/15 [==============================] - 0s 4ms/step - loss: 1.6438e-05 - accuracy: 1.0000\n",
            "Epoch 42/50\n",
            "15/15 [==============================] - 0s 4ms/step - loss: 1.5650e-05 - accuracy: 1.0000\n",
            "Epoch 43/50\n",
            "15/15 [==============================] - 0s 4ms/step - loss: 1.4567e-05 - accuracy: 1.0000\n",
            "Epoch 44/50\n",
            "15/15 [==============================] - 0s 4ms/step - loss: 1.3642e-05 - accuracy: 1.0000\n",
            "Epoch 45/50\n",
            "15/15 [==============================] - 0s 5ms/step - loss: 1.2866e-05 - accuracy: 1.0000\n",
            "Epoch 46/50\n",
            "15/15 [==============================] - 0s 4ms/step - loss: 1.2133e-05 - accuracy: 1.0000\n",
            "Epoch 47/50\n",
            "15/15 [==============================] - 0s 4ms/step - loss: 1.1480e-05 - accuracy: 1.0000\n",
            "Epoch 48/50\n",
            "15/15 [==============================] - 0s 5ms/step - loss: 1.0860e-05 - accuracy: 1.0000\n",
            "Epoch 49/50\n",
            "15/15 [==============================] - 0s 5ms/step - loss: 1.0314e-05 - accuracy: 1.0000\n",
            "Epoch 50/50\n",
            "15/15 [==============================] - 0s 5ms/step - loss: 9.7393e-06 - accuracy: 1.0000\n"
          ]
        }
      ]
    },
    {
      "cell_type": "code",
      "source": [
        "model.evaluate(photos,labels)\n",
        "model.save('Nhandangkhuonmat.h5')\n",
        "classes = [\"Anh\",\"Tri\",\"Nhat\",\"AN\",\"Khang\",\"Truc\",\"Quan\",\"dung\"]"
      ],
      "metadata": {
        "colab": {
          "base_uri": "https://localhost:8080/"
        },
        "id": "9cKBFI5Fo0BE",
        "outputId": "6e3d9323-c514-4fe2-89c0-8b796aedacc1"
      },
      "execution_count": 31,
      "outputs": [
        {
          "output_type": "stream",
          "name": "stdout",
          "text": [
            "15/15 [==============================] - 0s 3ms/step - loss: 9.3509e-06 - accuracy: 1.0000\n"
          ]
        }
      ]
    },
    {
      "cell_type": "code",
      "source": [
        "import numpy as np\n",
        "import matplotlib.pyplot as plt\n",
        "\n",
        "img = load_img('/content/drive/MyDrive/AI/Anh (0).jpg', target_size=(40,30))\n",
        "plt.imshow(img)\n",
        "imgRe = img_to_array(img)\n",
        "imgRe = imgRe.reshape(1,40,30,3)  \n",
        "imgRe = imgRe.astype('float32')\n",
        "imgRe /= 255\n",
        "y_pred = model.predict(imgRe)\n",
        "print(y_pred)\n",
        "y_classes = [np.argmax(element) for element in y_pred]\n",
        "y_classes\n",
        "classes[y_classes[0]]"
      ],
      "metadata": {
        "colab": {
          "base_uri": "https://localhost:8080/",
          "height": 501
        },
        "id": "ammdDL4Eo_m6",
        "outputId": "051794bb-d135-4152-c0be-86897beefdb8"
      },
      "execution_count": 32,
      "outputs": [
        {
          "output_type": "stream",
          "name": "stdout",
          "text": [
            "1/1 [==============================] - 0s 74ms/step\n",
            "[[0.10872035 0.10181871 0.09916619 0.09677096 0.10132509 0.10174895\n",
            "  0.1024604  0.09912157 0.09366917 0.0951986 ]]\n"
          ]
        },
        {
          "output_type": "execute_result",
          "data": {
            "text/plain": [
              "'Anh'"
            ],
            "application/vnd.google.colaboratory.intrinsic+json": {
              "type": "string"
            }
          },
          "metadata": {},
          "execution_count": 32
        },
        {
          "output_type": "display_data",
          "data": {
            "text/plain": [
              "<Figure size 640x480 with 1 Axes>"
            ],
            "image/png": "[encoded data removed]"
          },
          "metadata": {}
        }
      ]
    },
    {
      "cell_type": "code",
      "source": [
        "import numpy as np\n",
        "import matplotlib.pyplot as plt\n",
        "\n",
        "img = load_img('/content/drive/MyDrive/AI/Tri (0).jpg', target_size=(40,30))\n",
        "plt.imshow(img)\n",
        "imgRe = img_to_array(img)\n",
        "imgRe = imgRe.reshape(1,40,30,3)  \n",
        "imgRe = imgRe.astype('float32')\n",
        "imgRe /= 255\n",
        "y_pred = model.predict(imgRe)\n",
        "print(y_pred)\n",
        "y_classes = [np.argmax(element) for element in y_pred]\n",
        "y_classes\n",
        "classes[y_classes[0]]"
      ],
      "metadata": {
        "colab": {
          "base_uri": "https://localhost:8080/",
          "height": 501
        },
        "id": "wYiTi-gzpeov",
        "outputId": "7163afb5-04fb-42ff-8d74-d7c9d3f65f31"
      },
      "execution_count": 33,
      "outputs": [
        {
          "output_type": "stream",
          "name": "stdout",
          "text": [
            "1/1 [==============================] - 0s 22ms/step\n",
            "[[0.10168803 0.10768918 0.09605827 0.0982011  0.10126899 0.1023386\n",
            "  0.104063   0.09865367 0.09372371 0.09631552]]\n"
          ]
        },
        {
          "output_type": "execute_result",
          "data": {
            "text/plain": [
              "'Tri'"
            ],
            "application/vnd.google.colaboratory.intrinsic+json": {
              "type": "string"
            }
          },
          "metadata": {},
          "execution_count": 33
        },
        {
          "output_type": "display_data",
          "data": {
            "text/plain": [
              "<Figure size 640x480 with 1 Axes>"
            ],
            "image/png": "[encoded data removed]"
          },
          "metadata": {}
        }
      ]
    },
    {
      "cell_type": "code",
      "source": [
        "import numpy as np\n",
        "import matplotlib.pyplot as plt\n",
        "\n",
        "img = load_img('/content/drive/MyDrive/AI/Khang (23).jpg', target_size=(40,30))\n",
        "plt.imshow(img)\n",
        "imgRe = img_to_array(img)\n",
        "imgRe = imgRe.reshape(1,40,30,3)  \n",
        "imgRe = imgRe.astype('float32')\n",
        "imgRe /= 255\n",
        "y_pred = model.predict(imgRe)\n",
        "print(y_pred)\n",
        "y_classes = [np.argmax(element) for element in y_pred]\n",
        "y_classes\n",
        "classes[y_classes[0]]"
      ],
      "metadata": {
        "colab": {
          "base_uri": "https://localhost:8080/",
          "height": 501
        },
        "id": "ffF0M-bzpwe2",
        "outputId": "eb95430d-6098-4c99-ae87-16c2dbbfc73e"
      },
      "execution_count": 34,
      "outputs": [
        {
          "output_type": "stream",
          "name": "stdout",
          "text": [
            "1/1 [==============================] - 0s 17ms/step\n",
            "[[0.10039356 0.10009333 0.10172738 0.09766696 0.10784706 0.1021705\n",
            "  0.10342822 0.09981177 0.09411785 0.09274343]]\n"
          ]
        },
        {
          "output_type": "execute_result",
          "data": {
            "text/plain": [
              "'Khang'"
            ],
            "application/vnd.google.colaboratory.intrinsic+json": {
              "type": "string"
            }
          },
          "metadata": {},
          "execution_count": 34
        },
        {
          "output_type": "display_data",
          "data": {
            "text/plain": [
              "<Figure size 640x480 with 1 Axes>"
            ],
            "image/png": "[encoded data removed]"
          },
          "metadata": {}
        }
      ]
    },
    {
      "cell_type": "code",
      "source": [
        "import numpy as np\n",
        "import matplotlib.pyplot as plt\n",
        "\n",
        "img = load_img('/content/drive/MyDrive/AI_img/341495760_139245912312232_5607884450789146824_n.jpg', target_size=(40,30))\n",
        "plt.imshow(img)\n",
        "imgRe = img_to_array(img)\n",
        "imgRe = imgRe.reshape(1,40,30,3)  \n",
        "imgRe = imgRe.astype('float32')\n",
        "imgRe /= 255\n",
        "y_pred = model.predict(imgRe)\n",
        "print(y_pred)\n",
        "y_classes = [np.argmax(element) for element in y_pred]\n",
        "y_classes\n",
        "classes[y_classes[0]]"
      ],
      "metadata": {
        "colab": {
          "base_uri": "https://localhost:8080/",
          "height": 501
        },
        "id": "Il6CRCMnq3MS",
        "outputId": "6daac16e-7de8-4e1b-d35c-8a5d0511abea"
      },
      "execution_count": 35,
      "outputs": [
        {
          "output_type": "stream",
          "name": "stdout",
          "text": [
            "1/1 [==============================] - 0s 18ms/step\n",
            "[[0.1002202  0.10220397 0.09902101 0.09895116 0.1085708  0.10033391\n",
            "  0.10392924 0.09972478 0.09439691 0.09264805]]\n"
          ]
        },
        {
          "output_type": "execute_result",
          "data": {
            "text/plain": [
              "'Khang'"
            ],
            "application/vnd.google.colaboratory.intrinsic+json": {
              "type": "string"
            }
          },
          "metadata": {},
          "execution_count": 35
        },
        {
          "output_type": "display_data",
          "data": {
            "text/plain": [
              "<Figure size 640x480 with 1 Axes>"
            ],
            "image/png": "[encoded data removed]"
          },
          "metadata": {}
        }
      ]
    },
    {
      "cell_type": "code",
      "source": [
        "import numpy as np\n",
        "import matplotlib.pyplot as plt\n",
        "\n",
        "img = load_img('/content/drive/MyDrive/AI/Quan 23.jpg', target_size=(40,30))\n",
        "plt.imshow(img)\n",
        "imgRe = img_to_array(img)\n",
        "imgRe = imgRe.reshape(1,40,30,3)  \n",
        "imgRe = imgRe.astype('float32')\n",
        "imgRe /= 255\n",
        "y_pred = model.predict(imgRe)\n",
        "print(y_pred)\n",
        "y_classes = [np.argmax(element) for element in y_pred]\n",
        "y_classes\n",
        "classes[y_classes[0]]"
      ],
      "metadata": {
        "colab": {
          "base_uri": "https://localhost:8080/",
          "height": 501
        },
        "id": "8HGm6eP5j1vx",
        "outputId": "226ce5ab-6be2-45b2-dcd2-cf1a41ecc791"
      },
      "execution_count": 39,
      "outputs": [
        {
          "output_type": "stream",
          "name": "stdout",
          "text": [
            "1/1 [==============================] - 0s 53ms/step\n",
            "[[0.09878059 0.10091566 0.10129564 0.09990899 0.10133651 0.10244543\n",
            "  0.11028652 0.10048139 0.09254965 0.09199964]]\n"
          ]
        },
        {
          "output_type": "execute_result",
          "data": {
            "text/plain": [
              "'Quan'"
            ],
            "application/vnd.google.colaboratory.intrinsic+json": {
              "type": "string"
            }
          },
          "metadata": {},
          "execution_count": 39
        },
        {
          "output_type": "display_data",
          "data": {
            "text/plain": [
              "<Figure size 640x480 with 1 Axes>"
            ],
            "image/png": "[encoded data removed]"
          },
          "metadata": {}
        }
      ]
    },
    {
      "cell_type": "code",
      "source": [
        "import numpy as np\n",
        "import matplotlib.pyplot as plt\n",
        "\n",
        "img = load_img('/content/drive/MyDrive/AI/dung (23).jpg', target_size=(40,30))\n",
        "plt.imshow(img)\n",
        "imgRe = img_to_array(img)\n",
        "imgRe = imgRe.reshape(1,40,30,3)  \n",
        "imgRe = imgRe.astype('float32')\n",
        "imgRe /= 255\n",
        "y_pred = model.predict(imgRe)\n",
        "print(y_pred)\n",
        "y_classes = [np.argmax(element) for element in y_pred]\n",
        "y_classes\n",
        "classes[y_classes[0]]"
      ],
      "metadata": {
        "colab": {
          "base_uri": "https://localhost:8080/",
          "height": 501
        },
        "id": "q9H6MQ0zj4TJ",
        "outputId": "9fa4fd46-44a6-470a-c87d-aa15b29372d7"
      },
      "execution_count": 40,
      "outputs": [
        {
          "output_type": "stream",
          "name": "stdout",
          "text": [
            "1/1 [==============================] - 0s 21ms/step\n",
            "[[0.0961452  0.09924085 0.10371879 0.09924769 0.10084307 0.10096277\n",
            "  0.10553995 0.10785054 0.09172323 0.09472795]]\n"
          ]
        },
        {
          "output_type": "execute_result",
          "data": {
            "text/plain": [
              "'dung'"
            ],
            "application/vnd.google.colaboratory.intrinsic+json": {
              "type": "string"
            }
          },
          "metadata": {},
          "execution_count": 40
        },
        {
          "output_type": "display_data",
          "data": {
            "text/plain": [
              "<Figure size 640x480 with 1 Axes>"
            ],
            "image/png": "[encoded data removed]"
          },
          "metadata": {}
        }
      ]
    }
  ]
}