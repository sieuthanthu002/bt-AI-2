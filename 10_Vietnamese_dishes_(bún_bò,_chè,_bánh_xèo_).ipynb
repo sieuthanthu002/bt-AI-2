{
  "nbformat": 4,
  "nbformat_minor": 0,
  "metadata": {
    "colab": {
      "provenance": [],
      "mount_file_id": "1QJgtI6hC7vwUK5iG36GHN9urrhYuxRhq",
      "authorship_tag": "ABX9TyP0RCKS8cVptR6hSN6uMkbi",
      "include_colab_link": true
    },
    "kernelspec": {
      "name": "python3",
      "display_name": "Python 3"
    },
    "language_info": {
      "name": "python"
    }
  },
  "cells": [
    {
      "cell_type": "markdown",
      "metadata": {
        "id": "view-in-github",
        "colab_type": "text"
      },
      "source": [
        "<a href=\"https://colab.research.google.com/github/sieuthanthu002/bt-AI-2/blob/main/10_Vietnamese_dishes_(b%C3%BAn_b%C3%B2%2C_ch%C3%A8%2C_b%C3%A1nh_x%C3%A8o_).ipynb\" target=\"_parent\"><img src=\"https://colab.research.google.com/assets/colab-badge.svg\" alt=\"Open In Colab\"/></a>"
      ]
    },
    {
      "cell_type": "code",
      "execution_count": 1,
      "metadata": {
        "colab": {
          "base_uri": "https://localhost:8080/"
        },
        "id": "XkdQLAvxmqsW",
        "outputId": "7efd1a60-e72f-415c-9771-29c2f681b4b5"
      },
      "outputs": [
        {
          "output_type": "stream",
          "name": "stdout",
          "text": [
            "Drive already mounted at /content/drive; to attempt to forcibly remount, call drive.mount(\"/content/drive\", force_remount=True).\n"
          ]
        }
      ],
      "source": [
        "from google.colab import drive\n",
        "drive.mount('/content/drive')"
      ]
    },
    {
      "cell_type": "code",
      "source": [
        "from os import listdir\n",
        "from numpy import asarray,save\n",
        "from keras.utils import load_img,img_to_array\n",
        "\n",
        "folder = '/content/drive/MyDrive/food2/'\n",
        "photos,labels = list(),list()\n",
        "for file in listdir(folder):\n",
        "  if file.startswith('banh_chung'):\n",
        "    output = 0\n",
        "    photo = load_img(folder+file,target_size=(40,30))\n",
        "    photo = img_to_array(photo)\n",
        "    photos.append(photo)\n",
        "    labels.append(output)\n",
        "for file in listdir(folder):\n",
        "  if file.startswith('banh_cuon'):\n",
        "    output = 1\n",
        "    photo = load_img(folder+file,target_size=(40,30))\n",
        "    photo = img_to_array(photo)\n",
        "    photos.append(photo)\n",
        "    labels.append(output)\n",
        "for file in listdir(folder):\n",
        "  if file.startswith('banh_mi'):\n",
        "    output = 2\n",
        "    photo = load_img(folder+file,target_size=(40,30))\n",
        "    photo = img_to_array(photo)\n",
        "    photos.append(photo)\n",
        "    labels.append(output)\n",
        "for file in listdir(folder):\n",
        "  if file.startswith('banh_pia'):\n",
        "    output = 3\n",
        "    photo = load_img(folder+file,target_size=(40,30))\n",
        "    photo = img_to_array(photo)\n",
        "    photos.append(photo)\n",
        "    labels.append(output)\n",
        "for file in listdir(folder):\n",
        "  if file.startswith('banh_xeo'):\n",
        "    output = 4\n",
        "    photo = load_img(folder+file,target_size=(40,30))\n",
        "    photo = img_to_array(photo)\n",
        "    photos.append(photo)\n",
        "    labels.append(output)\n",
        "for file in listdir(folder):\n",
        "  if file.startswith('bún_bò'):\n",
        "    output = 5\n",
        "    photo = load_img(folder+file,target_size=(40,30))\n",
        "    photo = img_to_array(photo)\n",
        "    photos.append(photo)\n",
        "    labels.append(output)\n",
        "for file in listdir(folder):\n",
        "  if file.startswith('cha_gio'):\n",
        "    output = 6\n",
        "    photo = load_img(folder+file,target_size=(40,30))\n",
        "    photo = img_to_array(photo)\n",
        "    photos.append(photo)\n",
        "    labels.append(output)\n",
        "for file in listdir(folder):\n",
        "  if file.startswith('com_suon'):\n",
        "    output = 7\n",
        "    photo = load_img(folder+file,target_size=(40,30))\n",
        "    photo = img_to_array(photo)\n",
        "    photos.append(photo)\n",
        "    labels.append(output)\n",
        "for file in listdir(folder):\n",
        "  if file.startswith('pho'):\n",
        "    output = 8\n",
        "    photo = load_img(folder+file,target_size=(40,30))\n",
        "    photo = img_to_array(photo)\n",
        "    photos.append(photo)\n",
        "    labels.append(output)\n",
        "for file in listdir(folder):\n",
        "  if file.startswith('thit_kho'):\n",
        "    output = 9\n",
        "    photo = load_img(folder+file,target_size=(40,30))\n",
        "    photo = img_to_array(photo)\n",
        "    photos.append(photo)\n",
        "    labels.append(output)\n",
        "\n",
        "\n",
        "photos=asarray(photos)\n",
        "labels=asarray(labels)\n",
        "print(photos.shape,labels.shape)\n",
        "save('food.npy',photos)\n",
        "save('food.npy',labels)"
      ],
      "metadata": {
        "colab": {
          "base_uri": "https://localhost:8080/"
        },
        "id": "gl7aRLLIn8MG",
        "outputId": "52669d29-a19c-4464-e0f9-4cde2f7b348e"
      },
      "execution_count": 2,
      "outputs": [
        {
          "output_type": "stream",
          "name": "stdout",
          "text": [
            "(292, 40, 30, 3) (292,)\n"
          ]
        }
      ]
    },
    {
      "cell_type": "code",
      "source": [
        "from keras.models import Sequential\n",
        "from keras.layers import Dense,Dropout,Flatten,Conv2D,MaxPooling2D,Normalization,LeakyReLU\n",
        "from keras.optimizers import Adam\n",
        "\n",
        "model = Sequential()\n",
        "model.add(Conv2D(32, (3, 3), activation='relu', padding='same', input_shape=(40,30,3)))\n",
        "model.add(MaxPooling2D((2, 2)))\n",
        "model.add(Conv2D(64, (3, 3), activation='relu', padding='same'))\n",
        "model.add(MaxPooling2D((2, 2)))\n",
        "model.add(Conv2D(128, (3, 3), activation='relu', padding='same'))\n",
        "model.add(MaxPooling2D((2, 2)))\n",
        "\n",
        "model.add(Flatten())\n",
        "model.add(Dense(128, activation='relu'))\n",
        "model.add(Dense(10, activation='softmax'))\n",
        "model.compile(optimizer='Adam', loss='sparse_categorical_crossentropy', metrics=['accuracy'])"
      ],
      "metadata": {
        "id": "ozfdTvM1qNZ_"
      },
      "execution_count": 3,
      "outputs": []
    },
    {
      "cell_type": "code",
      "source": [
        "history = model.fit(photos, labels, epochs=50, verbose=1)"
      ],
      "metadata": {
        "colab": {
          "base_uri": "https://localhost:8080/"
        },
        "id": "ZsJn_xpMqUW2",
        "outputId": "0b717195-1530-481a-afa9-c0723fae6832"
      },
      "execution_count": 4,
      "outputs": [
        {
          "output_type": "stream",
          "name": "stdout",
          "text": [
            "Epoch 1/50\n",
            "10/10 [==============================] - 2s 83ms/step - loss: 57.0931 - accuracy: 0.1130\n",
            "Epoch 2/50\n",
            "10/10 [==============================] - 1s 83ms/step - loss: 7.4231 - accuracy: 0.1164\n",
            "Epoch 3/50\n",
            "10/10 [==============================] - 1s 111ms/step - loss: 2.4010 - accuracy: 0.1301\n",
            "Epoch 4/50\n",
            "10/10 [==============================] - 1s 143ms/step - loss: 1.8485 - accuracy: 0.3151\n",
            "Epoch 5/50\n",
            "10/10 [==============================] - 2s 154ms/step - loss: 1.4588 - accuracy: 0.5034\n",
            "Epoch 6/50\n",
            "10/10 [==============================] - 1s 140ms/step - loss: 1.0929 - accuracy: 0.6404\n",
            "Epoch 7/50\n",
            "10/10 [==============================] - 1s 79ms/step - loss: 0.8337 - accuracy: 0.7192\n",
            "Epoch 8/50\n",
            "10/10 [==============================] - 1s 82ms/step - loss: 0.6481 - accuracy: 0.7842\n",
            "Epoch 9/50\n",
            "10/10 [==============================] - 1s 82ms/step - loss: 0.5411 - accuracy: 0.8356\n",
            "Epoch 10/50\n",
            "10/10 [==============================] - 1s 81ms/step - loss: 0.3012 - accuracy: 0.9384\n",
            "Epoch 11/50\n",
            "10/10 [==============================] - 1s 80ms/step - loss: 0.2404 - accuracy: 0.9418\n",
            "Epoch 12/50\n",
            "10/10 [==============================] - 1s 80ms/step - loss: 0.1717 - accuracy: 0.9692\n",
            "Epoch 13/50\n",
            "10/10 [==============================] - 1s 79ms/step - loss: 0.2299 - accuracy: 0.9418\n",
            "Epoch 14/50\n",
            "10/10 [==============================] - 1s 81ms/step - loss: 0.1738 - accuracy: 0.9658\n",
            "Epoch 15/50\n",
            "10/10 [==============================] - 1s 80ms/step - loss: 0.2081 - accuracy: 0.9384\n",
            "Epoch 16/50\n",
            "10/10 [==============================] - 1s 79ms/step - loss: 0.0621 - accuracy: 1.0000\n",
            "Epoch 17/50\n",
            "10/10 [==============================] - 1s 78ms/step - loss: 0.0503 - accuracy: 0.9932\n",
            "Epoch 18/50\n",
            "10/10 [==============================] - 1s 80ms/step - loss: 0.0281 - accuracy: 1.0000\n",
            "Epoch 19/50\n",
            "10/10 [==============================] - 1s 116ms/step - loss: 0.0149 - accuracy: 1.0000\n",
            "Epoch 20/50\n",
            "10/10 [==============================] - 1s 144ms/step - loss: 0.0090 - accuracy: 1.0000\n",
            "Epoch 21/50\n",
            "10/10 [==============================] - 1s 141ms/step - loss: 0.0068 - accuracy: 1.0000\n",
            "Epoch 22/50\n",
            "10/10 [==============================] - 1s 137ms/step - loss: 0.0053 - accuracy: 1.0000\n",
            "Epoch 23/50\n",
            "10/10 [==============================] - 1s 81ms/step - loss: 0.0045 - accuracy: 1.0000\n",
            "Epoch 24/50\n",
            "10/10 [==============================] - 1s 79ms/step - loss: 0.0040 - accuracy: 1.0000\n",
            "Epoch 25/50\n",
            "10/10 [==============================] - 1s 80ms/step - loss: 0.0038 - accuracy: 1.0000\n",
            "Epoch 26/50\n",
            "10/10 [==============================] - 1s 81ms/step - loss: 0.0033 - accuracy: 1.0000\n",
            "Epoch 27/50\n",
            "10/10 [==============================] - 1s 80ms/step - loss: 0.0031 - accuracy: 1.0000\n",
            "Epoch 28/50\n",
            "10/10 [==============================] - 1s 81ms/step - loss: 0.0027 - accuracy: 1.0000\n",
            "Epoch 29/50\n",
            "10/10 [==============================] - 1s 80ms/step - loss: 0.0026 - accuracy: 1.0000\n",
            "Epoch 30/50\n",
            "10/10 [==============================] - 1s 79ms/step - loss: 0.0023 - accuracy: 1.0000\n",
            "Epoch 31/50\n",
            "10/10 [==============================] - 1s 82ms/step - loss: 0.0022 - accuracy: 1.0000\n",
            "Epoch 32/50\n",
            "10/10 [==============================] - 1s 80ms/step - loss: 0.0020 - accuracy: 1.0000\n",
            "Epoch 33/50\n",
            "10/10 [==============================] - 1s 81ms/step - loss: 0.0019 - accuracy: 1.0000\n",
            "Epoch 34/50\n",
            "10/10 [==============================] - 1s 81ms/step - loss: 0.0018 - accuracy: 1.0000\n",
            "Epoch 35/50\n",
            "10/10 [==============================] - 1s 125ms/step - loss: 0.0017 - accuracy: 1.0000\n",
            "Epoch 36/50\n",
            "10/10 [==============================] - 1s 143ms/step - loss: 0.0016 - accuracy: 1.0000\n",
            "Epoch 37/50\n",
            "10/10 [==============================] - 1s 146ms/step - loss: 0.0015 - accuracy: 1.0000\n",
            "Epoch 38/50\n",
            "10/10 [==============================] - 1s 130ms/step - loss: 0.0014 - accuracy: 1.0000\n",
            "Epoch 39/50\n",
            "10/10 [==============================] - 1s 79ms/step - loss: 0.0013 - accuracy: 1.0000\n",
            "Epoch 40/50\n",
            "10/10 [==============================] - 1s 81ms/step - loss: 0.0013 - accuracy: 1.0000\n",
            "Epoch 41/50\n",
            "10/10 [==============================] - 1s 82ms/step - loss: 0.0012 - accuracy: 1.0000\n",
            "Epoch 42/50\n",
            "10/10 [==============================] - 1s 80ms/step - loss: 0.0011 - accuracy: 1.0000\n",
            "Epoch 43/50\n",
            "10/10 [==============================] - 1s 80ms/step - loss: 0.0011 - accuracy: 1.0000\n",
            "Epoch 44/50\n",
            "10/10 [==============================] - 1s 80ms/step - loss: 0.0010 - accuracy: 1.0000\n",
            "Epoch 45/50\n",
            "10/10 [==============================] - 1s 79ms/step - loss: 9.6359e-04 - accuracy: 1.0000\n",
            "Epoch 46/50\n",
            "10/10 [==============================] - 1s 82ms/step - loss: 9.2511e-04 - accuracy: 1.0000\n",
            "Epoch 47/50\n",
            "10/10 [==============================] - 1s 79ms/step - loss: 8.7718e-04 - accuracy: 1.0000\n",
            "Epoch 48/50\n",
            "10/10 [==============================] - 1s 81ms/step - loss: 8.4512e-04 - accuracy: 1.0000\n",
            "Epoch 49/50\n",
            "10/10 [==============================] - 1s 80ms/step - loss: 7.9880e-04 - accuracy: 1.0000\n",
            "Epoch 50/50\n",
            "10/10 [==============================] - 1s 79ms/step - loss: 7.6832e-04 - accuracy: 1.0000\n"
          ]
        }
      ]
    },
    {
      "cell_type": "code",
      "source": [
        "model.evaluate(photos,labels)\n",
        "model.save('Nhandangkhuonmat.h5')\n",
        "classes = [\"Bánh_chưng\",\"Bánh_cuốn\",\"Bánh_mì\",\"Bánh_pía\",\"Bánh_xèo\",\"Bún_bò\",\"Chả_giờ\",\"Cơm_sườn\",\"Phở\",\"Thịt_kho_trứng\"]"
      ],
      "metadata": {
        "colab": {
          "base_uri": "https://localhost:8080/"
        },
        "id": "Zbn455A17Apx",
        "outputId": "009cc309-af82-404b-9c53-98f0df4f681b"
      },
      "execution_count": 5,
      "outputs": [
        {
          "output_type": "stream",
          "name": "stdout",
          "text": [
            "10/10 [==============================] - 1s 42ms/step - loss: 7.3619e-04 - accuracy: 1.0000\n"
          ]
        }
      ]
    },
    {
      "cell_type": "code",
      "source": [
        "import numpy as np\n",
        "import matplotlib.pyplot as plt\n",
        "\n",
        "img = load_img('/content/drive/MyDrive/test folder/tải xuống.jpg', target_size=(40,30))\n",
        "plt.imshow(img)\n",
        "imgRe = img_to_array(img)\n",
        "imgRe = imgRe.reshape(1,40,30,3)  \n",
        "imgRe = imgRe.astype('float32')\n",
        "imgRe /= 255\n",
        "y_pred = model.predict(imgRe)\n",
        "print(y_pred)\n",
        "y_classes = [np.argmax(element) for element in y_pred]\n",
        "y_classes\n",
        "classes[y_classes[0]]"
      ],
      "metadata": {
        "colab": {
          "base_uri": "https://localhost:8080/",
          "height": 501
        },
        "id": "RyUdv4vz7mLI",
        "outputId": "58b710ce-52d1-48a7-b213-ad8598fedb94"
      },
      "execution_count": 6,
      "outputs": [
        {
          "output_type": "stream",
          "name": "stdout",
          "text": [
            "1/1 [==============================] - 0s 183ms/step\n",
            "[[0.09669971 0.1003963  0.1037572  0.10432654 0.09974336 0.09032931\n",
            "  0.10021477 0.10158715 0.10025173 0.10269397]]\n"
          ]
        },
        {
          "output_type": "execute_result",
          "data": {
            "text/plain": [
              "'Bánh_pía'"
            ],
            "application/vnd.google.colaboratory.intrinsic+json": {
              "type": "string"
            }
          },
          "metadata": {},
          "execution_count": 6
        },
        {
          "output_type": "display_data",
          "data": {
            "text/plain": [
              "<Figure size 640x480 with 1 Axes>"
            ],
            "image/png": "[encoded data removed]"
          },
          "metadata": {}
        }
      ]
    }
  ]
}