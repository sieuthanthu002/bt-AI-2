{
  "nbformat": 4,
  "nbformat_minor": 0,
  "metadata": {
    "colab": {
      "provenance": [],
      "mount_file_id": "1TY5WM5Kb7jykAh1XjkUgM3vAjFrH4-JI",
      "authorship_tag": "ABX9TyNHQ71zskecZjRORg1wmDdh",
      "include_colab_link": true
    },
    "kernelspec": {
      "name": "python3",
      "display_name": "Python 3"
    },
    "language_info": {
      "name": "python"
    },
    "accelerator": "GPU",
    "gpuClass": "standard"
  },
  "cells": [
    {
      "cell_type": "markdown",
      "metadata": {
        "id": "view-in-github",
        "colab_type": "text"
      },
      "source": [
        "<a href=\"https://colab.research.google.com/github/sieuthanthu002/bt-AI-2/blob/main/hadn.ipynb\" target=\"_parent\"><img src=\"https://colab.research.google.com/assets/colab-badge.svg\" alt=\"Open In Colab\"/></a>"
      ]
    },
    {
      "cell_type": "code",
      "execution_count": 1,
      "metadata": {
        "colab": {
          "base_uri": "https://localhost:8080/"
        },
        "id": "9XNGQJneZmC8",
        "outputId": "263b3f6b-4779-4333-8e17-baa8b3418db7"
      },
      "outputs": [
        {
          "output_type": "stream",
          "name": "stdout",
          "text": [
            "Drive already mounted at /content/drive; to attempt to forcibly remount, call drive.mount(\"/content/drive\", force_remount=True).\n"
          ]
        }
      ],
      "source": [
        "from google.colab import drive\n",
        "drive.mount('/content/drive')"
      ]
    },
    {
      "cell_type": "code",
      "source": [
        "from os import listdir\n",
        "from numpy import asarray,save\n",
        "from keras.utils import load_img,img_to_array\n",
        "\n",
        "folder = '/content/drive/MyDrive/hand/'\n",
        "photos,labels = list(),list()\n",
        "for file in listdir(folder):\n",
        "  if file.startswith('tay1'):\n",
        "    output = 0\n",
        "    photo = load_img(folder+file,target_size=(40,30))\n",
        "    photo = img_to_array(photo)\n",
        "    photos.append(photo)\n",
        "    labels.append(output)\n",
        "for file in listdir(folder):\n",
        "  if file.startswith('tay2'):\n",
        "    output = 1\n",
        "    photo = load_img(folder+file,target_size=(40,30))\n",
        "    photo = img_to_array(photo)\n",
        "    photos.append(photo)\n",
        "    labels.append(output)\n",
        "for file in listdir(folder):\n",
        "  if file.startswith('tay3'):\n",
        "    output = 2\n",
        "    photo = load_img(folder+file,target_size=(40,30))\n",
        "    photo = img_to_array(photo)\n",
        "    photos.append(photo)\n",
        "    labels.append(output)\n",
        "for file in listdir(folder):\n",
        "  if file.startswith('tay4'):\n",
        "    output = 3\n",
        "    photo = load_img(folder+file,target_size=(40,30))\n",
        "    photo = img_to_array(photo)\n",
        "    photos.append(photo)\n",
        "    labels.append(output)\n",
        "for file in listdir(folder):\n",
        "  if file.startswith('tay5'):\n",
        "    output = 4\n",
        "    photo = load_img(folder+file,target_size=(40,30))\n",
        "    photo = img_to_array(photo)\n",
        "    photos.append(photo)\n",
        "    labels.append(output)\n",
        "for file in listdir(folder):\n",
        "  if file.startswith('tay6'):\n",
        "    output = 5\n",
        "    photo = load_img(folder+file,target_size=(40,30))\n",
        "    photo = img_to_array(photo)\n",
        "    photos.append(photo)\n",
        "    labels.append(output)\n",
        "for file in listdir(folder):\n",
        "  if file.startswith('tay7'):\n",
        "    output = 6\n",
        "    photo = load_img(folder+file,target_size=(40,30))\n",
        "    photo = img_to_array(photo)\n",
        "    photos.append(photo)\n",
        "    labels.append(output)\n",
        "for file in listdir(folder):\n",
        "  if file.startswith('tay8'):\n",
        "    output = 6\n",
        "    photo = load_img(folder+file,target_size=(40,30))\n",
        "    photo = img_to_array(photo)\n",
        "    photos.append(photo)\n",
        "    labels.append(output)\n",
        "\n",
        "photos=asarray(photos)\n",
        "labels=asarray(labels)\n",
        "print(photos.shape,labels.shape)\n",
        "save('hand.npy',photos)\n",
        "save('hand.npy',labels)"
      ],
      "metadata": {
        "colab": {
          "base_uri": "https://localhost:8080/"
        },
        "id": "hhpMuMvKZmoo",
        "outputId": "5f7994fe-bcfc-4008-aae3-b20d5ee20808"
      },
      "execution_count": 2,
      "outputs": [
        {
          "output_type": "stream",
          "name": "stdout",
          "text": [
            "(79, 40, 30, 3) (79,)\n"
          ]
        }
      ]
    },
    {
      "cell_type": "code",
      "source": [
        "from keras.models import Sequential\n",
        "from keras.layers import Dense,Dropout,Flatten,Conv2D,MaxPooling2D,Normalization,LeakyReLU\n",
        "from keras.optimizers import Adam\n",
        "\n",
        "model = Sequential()\n",
        "model.add(Conv2D(32, (3, 3), activation='relu', padding='same', input_shape=(40,30,3)))\n",
        "model.add(MaxPooling2D((2, 2)))\n",
        "model.add(Conv2D(64, (3, 3), activation='relu', padding='same'))\n",
        "model.add(MaxPooling2D((2, 2)))\n",
        "model.add(Conv2D(128, (3, 3), activation='relu', padding='same'))\n",
        "model.add(MaxPooling2D((2, 2)))\n",
        "\n",
        "model.add(Flatten())\n",
        "model.add(Dense(128, activation='relu'))\n",
        "model.add(Dense(10, activation='softmax'))\n",
        "model.compile(optimizer='Adam', loss='sparse_categorical_crossentropy', metrics=['accuracy'])\n",
        "history = model.fit(photos, labels, epochs=50, verbose=1)"
      ],
      "metadata": {
        "colab": {
          "base_uri": "https://localhost:8080/"
        },
        "id": "wuT2Bho-Zr2G",
        "outputId": "ec96bf03-99e5-4105-d476-5682c946b0aa"
      },
      "execution_count": 3,
      "outputs": [
        {
          "output_type": "stream",
          "name": "stdout",
          "text": [
            "Epoch 1/50\n",
            "3/3 [==============================] - 13s 122ms/step - loss: 42.4833 - accuracy: 0.1392\n",
            "Epoch 2/50\n",
            "3/3 [==============================] - 0s 8ms/step - loss: 42.3677 - accuracy: 0.0253\n",
            "Epoch 3/50\n",
            "3/3 [==============================] - 0s 12ms/step - loss: 18.1408 - accuracy: 0.1519\n",
            "Epoch 4/50\n",
            "3/3 [==============================] - 0s 8ms/step - loss: 7.1609 - accuracy: 0.1392\n",
            "Epoch 5/50\n",
            "3/3 [==============================] - 0s 8ms/step - loss: 3.9824 - accuracy: 0.2658\n",
            "Epoch 6/50\n",
            "3/3 [==============================] - 0s 8ms/step - loss: 2.4073 - accuracy: 0.3291\n",
            "Epoch 7/50\n",
            "3/3 [==============================] - 0s 8ms/step - loss: 1.9083 - accuracy: 0.2911\n",
            "Epoch 8/50\n",
            "3/3 [==============================] - 0s 8ms/step - loss: 1.5791 - accuracy: 0.3671\n",
            "Epoch 9/50\n",
            "3/3 [==============================] - 0s 8ms/step - loss: 1.3612 - accuracy: 0.5949\n",
            "Epoch 10/50\n",
            "3/3 [==============================] - 0s 9ms/step - loss: 1.1814 - accuracy: 0.6582\n",
            "Epoch 11/50\n",
            "3/3 [==============================] - 0s 8ms/step - loss: 0.9487 - accuracy: 0.6962\n",
            "Epoch 12/50\n",
            "3/3 [==============================] - 0s 8ms/step - loss: 0.7248 - accuracy: 0.8481\n",
            "Epoch 13/50\n",
            "3/3 [==============================] - 0s 8ms/step - loss: 0.6135 - accuracy: 0.8608\n",
            "Epoch 14/50\n",
            "3/3 [==============================] - 0s 9ms/step - loss: 0.4687 - accuracy: 0.8987\n",
            "Epoch 15/50\n",
            "3/3 [==============================] - 0s 10ms/step - loss: 0.4085 - accuracy: 0.9241\n",
            "Epoch 16/50\n",
            "3/3 [==============================] - 0s 11ms/step - loss: 0.2683 - accuracy: 0.9367\n",
            "Epoch 17/50\n",
            "3/3 [==============================] - 0s 8ms/step - loss: 0.1943 - accuracy: 0.9873\n",
            "Epoch 18/50\n",
            "3/3 [==============================] - 0s 8ms/step - loss: 0.1580 - accuracy: 1.0000\n",
            "Epoch 19/50\n",
            "3/3 [==============================] - 0s 8ms/step - loss: 0.0978 - accuracy: 1.0000\n",
            "Epoch 20/50\n",
            "3/3 [==============================] - 0s 8ms/step - loss: 0.0737 - accuracy: 1.0000\n",
            "Epoch 21/50\n",
            "3/3 [==============================] - 0s 8ms/step - loss: 0.0424 - accuracy: 1.0000\n",
            "Epoch 22/50\n",
            "3/3 [==============================] - 0s 8ms/step - loss: 0.0381 - accuracy: 1.0000\n",
            "Epoch 23/50\n",
            "3/3 [==============================] - 0s 8ms/step - loss: 0.0243 - accuracy: 1.0000\n",
            "Epoch 24/50\n",
            "3/3 [==============================] - 0s 9ms/step - loss: 0.0164 - accuracy: 1.0000\n",
            "Epoch 25/50\n",
            "3/3 [==============================] - 0s 8ms/step - loss: 0.0112 - accuracy: 1.0000\n",
            "Epoch 26/50\n",
            "3/3 [==============================] - 0s 9ms/step - loss: 0.0088 - accuracy: 1.0000\n",
            "Epoch 27/50\n",
            "3/3 [==============================] - 0s 7ms/step - loss: 0.0076 - accuracy: 1.0000\n",
            "Epoch 28/50\n",
            "3/3 [==============================] - 0s 7ms/step - loss: 0.0055 - accuracy: 1.0000\n",
            "Epoch 29/50\n",
            "3/3 [==============================] - 0s 7ms/step - loss: 0.0040 - accuracy: 1.0000\n",
            "Epoch 30/50\n",
            "3/3 [==============================] - 0s 7ms/step - loss: 0.0035 - accuracy: 1.0000\n",
            "Epoch 31/50\n",
            "3/3 [==============================] - 0s 8ms/step - loss: 0.0029 - accuracy: 1.0000\n",
            "Epoch 32/50\n",
            "3/3 [==============================] - 0s 8ms/step - loss: 0.0024 - accuracy: 1.0000\n",
            "Epoch 33/50\n",
            "3/3 [==============================] - 0s 8ms/step - loss: 0.0021 - accuracy: 1.0000\n",
            "Epoch 34/50\n",
            "3/3 [==============================] - 0s 8ms/step - loss: 0.0017 - accuracy: 1.0000\n",
            "Epoch 35/50\n",
            "3/3 [==============================] - 0s 8ms/step - loss: 0.0016 - accuracy: 1.0000\n",
            "Epoch 36/50\n",
            "3/3 [==============================] - 0s 8ms/step - loss: 0.0014 - accuracy: 1.0000\n",
            "Epoch 37/50\n",
            "3/3 [==============================] - 0s 8ms/step - loss: 0.0012 - accuracy: 1.0000\n",
            "Epoch 38/50\n",
            "3/3 [==============================] - 0s 9ms/step - loss: 0.0011 - accuracy: 1.0000\n",
            "Epoch 39/50\n",
            "3/3 [==============================] - 0s 8ms/step - loss: 0.0010 - accuracy: 1.0000\n",
            "Epoch 40/50\n",
            "3/3 [==============================] - 0s 9ms/step - loss: 9.3105e-04 - accuracy: 1.0000\n",
            "Epoch 41/50\n",
            "3/3 [==============================] - 0s 9ms/step - loss: 8.4128e-04 - accuracy: 1.0000\n",
            "Epoch 42/50\n",
            "3/3 [==============================] - 0s 8ms/step - loss: 7.7454e-04 - accuracy: 1.0000\n",
            "Epoch 43/50\n",
            "3/3 [==============================] - 0s 8ms/step - loss: 7.2293e-04 - accuracy: 1.0000\n",
            "Epoch 44/50\n",
            "3/3 [==============================] - 0s 8ms/step - loss: 6.8008e-04 - accuracy: 1.0000\n",
            "Epoch 45/50\n",
            "3/3 [==============================] - 0s 9ms/step - loss: 6.3750e-04 - accuracy: 1.0000\n",
            "Epoch 46/50\n",
            "3/3 [==============================] - 0s 8ms/step - loss: 5.9534e-04 - accuracy: 1.0000\n",
            "Epoch 47/50\n",
            "3/3 [==============================] - 0s 8ms/step - loss: 5.5530e-04 - accuracy: 1.0000\n",
            "Epoch 48/50\n",
            "3/3 [==============================] - 0s 10ms/step - loss: 5.2558e-04 - accuracy: 1.0000\n",
            "Epoch 49/50\n",
            "3/3 [==============================] - 0s 8ms/step - loss: 4.9728e-04 - accuracy: 1.0000\n",
            "Epoch 50/50\n",
            "3/3 [==============================] - 0s 7ms/step - loss: 4.7039e-04 - accuracy: 1.0000\n"
          ]
        }
      ]
    },
    {
      "cell_type": "code",
      "source": [
        "model.evaluate(photos,labels)\n",
        "model.save('tiendoantuonglai.h5')\n",
        "classes = [\"học vấn tốt, sức khoẻ tốt, tình cảm tốt\",\"học vấn tốt, sức khoẻ tệ, tình cảm tốt\",\"học vấn tốt, sức khoẻ tốt, tình cảm tệ\",\n",
        "           \"học vấn tốt, sức khoẻ tệ, tình cảm tệ\",\"học vấn tệ, sức khoẻ tốt, tình cảm tốt\",\"học vấn tệ, sức khoẻ tốt, tình cảm tốt\",\n",
        "           \"học vấn tệ, sức khoẻ tốt, tình cảm tốt\",\"học vấn tệ, sức khoẻ tốt, tình cảm tệ\",]"
      ],
      "metadata": {
        "colab": {
          "base_uri": "https://localhost:8080/"
        },
        "id": "F5VqLANeZuFP",
        "outputId": "52714d87-2e0b-49fa-a0b2-29e302e975fc"
      },
      "execution_count": 4,
      "outputs": [
        {
          "output_type": "stream",
          "name": "stdout",
          "text": [
            "3/3 [==============================] - 0s 6ms/step - loss: 4.4688e-04 - accuracy: 1.0000\n"
          ]
        }
      ]
    },
    {
      "cell_type": "code",
      "source": [
        "import numpy as np\n",
        "import matplotlib.pyplot as plt\n",
        "\n",
        "img = load_img('/content/drive/MyDrive/test folder/chi-nhin-ngon-tay-cung-doc-thau-tinh-cach-va-so-menh.jpg', \n",
        "               target_size=(40,30))\n",
        "plt.imshow(img)\n",
        "imgRe = img_to_array(img)\n",
        "imgRe = imgRe.reshape(1,40,30,3)  \n",
        "imgRe = imgRe.astype('float32')\n",
        "imgRe /= 255\n",
        "y_pred = model.predict(imgRe)\n",
        "y_classes = [np.argmax(element) for element in y_pred]\n",
        "y_classes\n",
        "classes[y_classes[0]]"
      ],
      "metadata": {
        "colab": {
          "base_uri": "https://localhost:8080/",
          "height": 469
        },
        "id": "lHmm7g9Tb9bQ",
        "outputId": "f3ecefe3-4b8a-42a3-9d67-ea8d76df97bb"
      },
      "execution_count": 5,
      "outputs": [
        {
          "output_type": "stream",
          "name": "stdout",
          "text": [
            "1/1 [==============================] - 0s 201ms/step\n"
          ]
        },
        {
          "output_type": "execute_result",
          "data": {
            "text/plain": [
              "'học vấn tệ, sức khoẻ tốt, tình cảm tốt'"
            ],
            "application/vnd.google.colaboratory.intrinsic+json": {
              "type": "string"
            }
          },
          "metadata": {},
          "execution_count": 5
        },
        {
          "output_type": "display_data",
          "data": {
            "text/plain": [
              "<Figure size 640x480 with 1 Axes>"
            ],
            "image/png": "[encoded data removed]"
          },
          "metadata": {}
        }
      ]
    }
  ]
}