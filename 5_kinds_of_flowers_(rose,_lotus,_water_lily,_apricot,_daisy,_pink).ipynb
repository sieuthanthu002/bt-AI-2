{
  "nbformat": 4,
  "nbformat_minor": 0,
  "metadata": {
    "colab": {
      "provenance": [],
      "mount_file_id": "1rXTftAZe4UCYlpPua3kfySJwF7ouQl22",
      "authorship_tag": "ABX9TyNa7WNyrHlXNQM2HVP0C8PG",
      "include_colab_link": true
    },
    "kernelspec": {
      "name": "python3",
      "display_name": "Python 3"
    },
    "language_info": {
      "name": "python"
    },
    "accelerator": "GPU",
    "gpuClass": "standard"
  },
  "cells": [
    {
      "cell_type": "markdown",
      "metadata": {
        "id": "view-in-github",
        "colab_type": "text"
      },
      "source": [
        "<a href=\"https://colab.research.google.com/github/sieuthanthu002/bt-AI-2/blob/main/5_kinds_of_flowers_(rose%2C_lotus%2C_water_lily%2C_apricot%2C_daisy%2C_pink).ipynb\" target=\"_parent\"><img src=\"https://colab.research.google.com/assets/colab-badge.svg\" alt=\"Open In Colab\"/></a>"
      ]
    },
    {
      "cell_type": "code",
      "execution_count": 1,
      "metadata": {
        "id": "5-GjXsXfCUEr",
        "colab": {
          "base_uri": "https://localhost:8080/"
        },
        "outputId": "67c4acb5-5525-49a6-93bc-6d69f8597933"
      },
      "outputs": [
        {
          "output_type": "stream",
          "name": "stdout",
          "text": [
            "Drive already mounted at /content/drive; to attempt to forcibly remount, call drive.mount(\"/content/drive\", force_remount=True).\n"
          ]
        }
      ],
      "source": [
        "from google.colab import drive\n",
        "drive.mount('/content/drive')"
      ]
    },
    {
      "cell_type": "code",
      "source": [
        "from os import listdir\n",
        "from numpy import asarray,save\n",
        "from keras.utils import load_img,img_to_array\n",
        "\n",
        "folder = '/content/drive/MyDrive/flower/'\n",
        "photos,labels = list(),list()\n",
        "for file in listdir(folder):\n",
        "  if file.startswith('hoa_hong'):\n",
        "    output = 0\n",
        "    photo = load_img(folder+file,target_size=(40,30))\n",
        "    photo = img_to_array(photo)\n",
        "    photos.append(photo)\n",
        "    labels.append(output)\n",
        "for file in listdir(folder):\n",
        "  if file.startswith('huong_duong'):\n",
        "    output = 1\n",
        "    photo = load_img(folder+file,target_size=(40,30))\n",
        "    photo = img_to_array(photo)\n",
        "    photos.append(photo)\n",
        "    labels.append(output)\n",
        "for file in listdir(folder):\n",
        "  if file.startswith('hoa_mai'):\n",
        "    output = 2\n",
        "    photo = load_img(folder+file,target_size=(40,30))\n",
        "    photo = img_to_array(photo)\n",
        "    photos.append(photo)\n",
        "    labels.append(output)\n",
        "for file in listdir(folder):\n",
        "  if file.startswith('hoa_sen'):\n",
        "    output = 3\n",
        "    photo = load_img(folder+file,target_size=(40,30))\n",
        "    photo = img_to_array(photo)\n",
        "    photos.append(photo)\n",
        "    labels.append(output)\n",
        "for file in listdir(folder):\n",
        "  if file.startswith('violet'):\n",
        "    output = 4\n",
        "    photo = load_img(folder+file,target_size=(40,30))\n",
        "    photo = img_to_array(photo)\n",
        "    photos.append(photo)\n",
        "    labels.append(output)\n",
        "\n",
        "photos=asarray(photos)\n",
        "labels=asarray(labels)\n",
        "print(photos.shape,labels.shape)\n",
        "save('food.npy',photos)\n",
        "save('food.npy',labels)"
      ],
      "metadata": {
        "id": "f98h2ailEs3G",
        "colab": {
          "base_uri": "https://localhost:8080/"
        },
        "outputId": "e642cbd3-1d17-4e8f-faf8-9d341c68ca16"
      },
      "execution_count": 2,
      "outputs": [
        {
          "output_type": "stream",
          "name": "stdout",
          "text": [
            "(460, 40, 30, 3) (460,)\n"
          ]
        }
      ]
    },
    {
      "cell_type": "code",
      "source": [
        "from keras.models import Sequential\n",
        "from keras.layers import Dense,Dropout,Flatten,Conv2D,MaxPooling2D,Normalization,LeakyReLU\n",
        "from keras.optimizers import Adam\n",
        "\n",
        "model = Sequential()\n",
        "model.add(Conv2D(32, (3, 3), activation='relu', padding='same', input_shape=(40,30,3)))\n",
        "model.add(MaxPooling2D((2, 2)))\n",
        "model.add(Conv2D(64, (3, 3), activation='relu', padding='same'))\n",
        "model.add(MaxPooling2D((2, 2)))\n",
        "model.add(Conv2D(128, (3, 3), activation='relu', padding='same'))\n",
        "model.add(MaxPooling2D((2, 2)))\n",
        "\n",
        "model.add(Flatten())\n",
        "model.add(Dense(128, activation='relu'))\n",
        "model.add(Dense(10, activation='softmax'))\n",
        "model.compile(optimizer='Adam', loss='sparse_categorical_crossentropy', metrics=['accuracy'])"
      ],
      "metadata": {
        "id": "oiEwit0TFG6e"
      },
      "execution_count": 3,
      "outputs": []
    },
    {
      "cell_type": "code",
      "source": [
        "history = model.fit(photos, labels, epochs=50, verbose=1)"
      ],
      "metadata": {
        "id": "TGKGLRkaFM8U",
        "colab": {
          "base_uri": "https://localhost:8080/"
        },
        "outputId": "3f8bf383-4ae8-4e79-dffa-5423f09d51a4"
      },
      "execution_count": 4,
      "outputs": [
        {
          "output_type": "stream",
          "name": "stdout",
          "text": [
            "Epoch 1/50\n",
            "15/15 [==============================] - 15s 35ms/step - loss: 9.3130 - accuracy: 0.5152\n",
            "Epoch 2/50\n",
            "15/15 [==============================] - 0s 6ms/step - loss: 0.4987 - accuracy: 0.8587\n",
            "Epoch 3/50\n",
            "15/15 [==============================] - 0s 6ms/step - loss: 0.0782 - accuracy: 0.9696\n",
            "Epoch 4/50\n",
            "15/15 [==============================] - 0s 7ms/step - loss: 0.0091 - accuracy: 1.0000\n",
            "Epoch 5/50\n",
            "15/15 [==============================] - 0s 7ms/step - loss: 0.0034 - accuracy: 1.0000\n",
            "Epoch 6/50\n",
            "15/15 [==============================] - 0s 8ms/step - loss: 0.0024 - accuracy: 1.0000\n",
            "Epoch 7/50\n",
            "15/15 [==============================] - 0s 8ms/step - loss: 0.0016 - accuracy: 1.0000\n",
            "Epoch 8/50\n",
            "15/15 [==============================] - 0s 8ms/step - loss: 0.0012 - accuracy: 1.0000\n",
            "Epoch 9/50\n",
            "15/15 [==============================] - 0s 10ms/step - loss: 9.7766e-04 - accuracy: 1.0000\n",
            "Epoch 10/50\n",
            "15/15 [==============================] - 0s 9ms/step - loss: 8.4491e-04 - accuracy: 1.0000\n",
            "Epoch 11/50\n",
            "15/15 [==============================] - 0s 7ms/step - loss: 6.4878e-04 - accuracy: 1.0000\n",
            "Epoch 12/50\n",
            "15/15 [==============================] - 0s 7ms/step - loss: 5.5396e-04 - accuracy: 1.0000\n",
            "Epoch 13/50\n",
            "15/15 [==============================] - 0s 8ms/step - loss: 4.9116e-04 - accuracy: 1.0000\n",
            "Epoch 14/50\n",
            "15/15 [==============================] - 0s 7ms/step - loss: 4.3245e-04 - accuracy: 1.0000\n",
            "Epoch 15/50\n",
            "15/15 [==============================] - 0s 7ms/step - loss: 3.8225e-04 - accuracy: 1.0000\n",
            "Epoch 16/50\n",
            "15/15 [==============================] - 0s 8ms/step - loss: 3.4614e-04 - accuracy: 1.0000\n",
            "Epoch 17/50\n",
            "15/15 [==============================] - 0s 10ms/step - loss: 3.1337e-04 - accuracy: 1.0000\n",
            "Epoch 18/50\n",
            "15/15 [==============================] - 0s 8ms/step - loss: 2.8302e-04 - accuracy: 1.0000\n",
            "Epoch 19/50\n",
            "15/15 [==============================] - 0s 8ms/step - loss: 2.5672e-04 - accuracy: 1.0000\n",
            "Epoch 20/50\n",
            "15/15 [==============================] - 0s 8ms/step - loss: 2.3970e-04 - accuracy: 1.0000\n",
            "Epoch 21/50\n",
            "15/15 [==============================] - 0s 9ms/step - loss: 2.1312e-04 - accuracy: 1.0000\n",
            "Epoch 22/50\n",
            "15/15 [==============================] - 0s 10ms/step - loss: 1.9705e-04 - accuracy: 1.0000\n",
            "Epoch 23/50\n",
            "15/15 [==============================] - 0s 9ms/step - loss: 1.8259e-04 - accuracy: 1.0000\n",
            "Epoch 24/50\n",
            "15/15 [==============================] - 0s 9ms/step - loss: 1.6782e-04 - accuracy: 1.0000\n",
            "Epoch 25/50\n",
            "15/15 [==============================] - 0s 9ms/step - loss: 1.5580e-04 - accuracy: 1.0000\n",
            "Epoch 26/50\n",
            "15/15 [==============================] - 0s 7ms/step - loss: 1.4482e-04 - accuracy: 1.0000\n",
            "Epoch 27/50\n",
            "15/15 [==============================] - 0s 8ms/step - loss: 1.3439e-04 - accuracy: 1.0000\n",
            "Epoch 28/50\n",
            "15/15 [==============================] - 0s 8ms/step - loss: 1.2677e-04 - accuracy: 1.0000\n",
            "Epoch 29/50\n",
            "15/15 [==============================] - 0s 10ms/step - loss: 1.1755e-04 - accuracy: 1.0000\n",
            "Epoch 30/50\n",
            "15/15 [==============================] - 0s 7ms/step - loss: 1.1017e-04 - accuracy: 1.0000\n",
            "Epoch 31/50\n",
            "15/15 [==============================] - 0s 7ms/step - loss: 1.0418e-04 - accuracy: 1.0000\n",
            "Epoch 32/50\n",
            "15/15 [==============================] - 0s 10ms/step - loss: 9.7436e-05 - accuracy: 1.0000\n",
            "Epoch 33/50\n",
            "15/15 [==============================] - 0s 11ms/step - loss: 9.1350e-05 - accuracy: 1.0000\n",
            "Epoch 34/50\n",
            "15/15 [==============================] - 0s 8ms/step - loss: 8.6496e-05 - accuracy: 1.0000\n",
            "Epoch 35/50\n",
            "15/15 [==============================] - 0s 7ms/step - loss: 8.1453e-05 - accuracy: 1.0000\n",
            "Epoch 36/50\n",
            "15/15 [==============================] - 0s 7ms/step - loss: 7.6982e-05 - accuracy: 1.0000\n",
            "Epoch 37/50\n",
            "15/15 [==============================] - 0s 7ms/step - loss: 7.2684e-05 - accuracy: 1.0000\n",
            "Epoch 38/50\n",
            "15/15 [==============================] - 0s 8ms/step - loss: 6.8917e-05 - accuracy: 1.0000\n",
            "Epoch 39/50\n",
            "15/15 [==============================] - 0s 10ms/step - loss: 6.5663e-05 - accuracy: 1.0000\n",
            "Epoch 40/50\n",
            "15/15 [==============================] - 0s 10ms/step - loss: 6.2101e-05 - accuracy: 1.0000\n",
            "Epoch 41/50\n",
            "15/15 [==============================] - 0s 8ms/step - loss: 5.7456e-05 - accuracy: 1.0000\n",
            "Epoch 42/50\n",
            "15/15 [==============================] - 0s 7ms/step - loss: 5.3669e-05 - accuracy: 1.0000\n",
            "Epoch 43/50\n",
            "15/15 [==============================] - 0s 8ms/step - loss: 5.0568e-05 - accuracy: 1.0000\n",
            "Epoch 44/50\n",
            "15/15 [==============================] - 0s 7ms/step - loss: 4.7313e-05 - accuracy: 1.0000\n",
            "Epoch 45/50\n",
            "15/15 [==============================] - 0s 7ms/step - loss: 4.4502e-05 - accuracy: 1.0000\n",
            "Epoch 46/50\n",
            "15/15 [==============================] - 0s 9ms/step - loss: 4.2141e-05 - accuracy: 1.0000\n",
            "Epoch 47/50\n",
            "15/15 [==============================] - 0s 8ms/step - loss: 4.0002e-05 - accuracy: 1.0000\n",
            "Epoch 48/50\n",
            "15/15 [==============================] - 0s 8ms/step - loss: 3.7827e-05 - accuracy: 1.0000\n",
            "Epoch 49/50\n",
            "15/15 [==============================] - 0s 8ms/step - loss: 3.5980e-05 - accuracy: 1.0000\n",
            "Epoch 50/50\n",
            "15/15 [==============================] - 0s 11ms/step - loss: 3.4314e-05 - accuracy: 1.0000\n"
          ]
        }
      ]
    },
    {
      "cell_type": "code",
      "source": [
        "model.evaluate(photos,labels)\n",
        "model.save('Nhandangkhuonmat.h5')\n",
        "classes = [\"Hoa_hồng\",\"Hướng_dương\",\"Hoa_mai\",\"_Hoa_sen\",\"Hoa_Violer\"]"
      ],
      "metadata": {
        "id": "fMNmkeZCFmkE",
        "colab": {
          "base_uri": "https://localhost:8080/"
        },
        "outputId": "b799fed9-5b42-41cb-f2bc-7f305d275525"
      },
      "execution_count": 5,
      "outputs": [
        {
          "output_type": "stream",
          "name": "stdout",
          "text": [
            "15/15 [==============================] - 0s 3ms/step - loss: 3.3211e-05 - accuracy: 1.0000\n"
          ]
        }
      ]
    },
    {
      "cell_type": "code",
      "source": [
        "import numpy as np\n",
        "import matplotlib.pyplot as plt\n",
        "\n",
        "img = load_img('/content/drive/MyDrive/test folder/tải xuống.jpg', target_size=(40,30))\n",
        "plt.imshow(img)\n",
        "imgRe = img_to_array(img)\n",
        "imgRe = imgRe.reshape(1,40,30,3)  \n",
        "imgRe = imgRe.astype('float32')\n",
        "imgRe /= 255\n",
        "y_pred = model.predict(imgRe)\n",
        "print(y_pred)\n",
        "y_classes = [np.argmax(element) for element in y_pred]\n",
        "y_classes\n",
        "classes[y_classes[0]]"
      ],
      "metadata": {
        "id": "UQoiHKZOGIsd",
        "colab": {
          "base_uri": "https://localhost:8080/",
          "height": 501
        },
        "outputId": "55396cc2-e068-4266-b66e-270382d382c9"
      },
      "execution_count": 6,
      "outputs": [
        {
          "output_type": "stream",
          "name": "stdout",
          "text": [
            "1/1 [==============================] - 0s 191ms/step\n",
            "[[0.10432654 0.10441007 0.10230567 0.11061127 0.10132784 0.08604959\n",
            "  0.09750409 0.09837414 0.09672387 0.09836686]]\n"
          ]
        },
        {
          "output_type": "execute_result",
          "data": {
            "text/plain": [
              "'_Hoa_sen'"
            ],
            "application/vnd.google.colaboratory.intrinsic+json": {
              "type": "string"
            }
          },
          "metadata": {},
          "execution_count": 6
        },
        {
          "output_type": "display_data",
          "data": {
            "text/plain": [
              "<Figure size 640x480 with 1 Axes>"
            ],
            "image/png": "[encoded data removed]"
          },
          "metadata": {}
        }
      ]
    },
    {
      "cell_type": "code",
      "source": [
        "import numpy as np\n",
        "import matplotlib.pyplot as plt\n",
        "\n",
        "img = load_img('/content/drive/MyDrive/test folder/y-nghia-hoa-mai-trong-ngay-tet-3.jpg', target_size=(40,30))\n",
        "plt.imshow(img)\n",
        "imgRe = img_to_array(img)\n",
        "imgRe = imgRe.reshape(1,40,30,3)  \n",
        "imgRe = imgRe.astype('float32')\n",
        "imgRe /= 255\n",
        "y_pred = model.predict(imgRe)\n",
        "print(y_pred)\n",
        "y_classes = [np.argmax(element) for element in y_pred]\n",
        "y_classes\n",
        "classes[y_classes[0]]"
      ],
      "metadata": {
        "id": "7GhGE81zGpmc",
        "colab": {
          "base_uri": "https://localhost:8080/",
          "height": 501
        },
        "outputId": "7d8eb6a5-9178-49ff-efc1-0adfe3215ccb"
      },
      "execution_count": 7,
      "outputs": [
        {
          "output_type": "stream",
          "name": "stdout",
          "text": [
            "1/1 [==============================] - 0s 22ms/step\n",
            "[[0.10446092 0.1133128  0.11375852 0.10410832 0.09873795 0.0780692\n",
            "  0.10036211 0.09855667 0.09042414 0.09820937]]\n"
          ]
        },
        {
          "output_type": "execute_result",
          "data": {
            "text/plain": [
              "'Hoa_mai'"
            ],
            "application/vnd.google.colaboratory.intrinsic+json": {
              "type": "string"
            }
          },
          "metadata": {},
          "execution_count": 7
        },
        {
          "output_type": "display_data",
          "data": {
            "text/plain": [
              "<Figure size 640x480 with 1 Axes>"
            ],
            "image/png": "[encoded data removed]"
          },
          "metadata": {}
        }
      ]
    }
  ]
}